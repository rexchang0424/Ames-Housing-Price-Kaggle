{
 "cells": [
  {
   "cell_type": "markdown",
   "metadata": {},
   "source": [
    "# Ames Housing Data - Preprocessing\n"
   ]
  },
  {
   "cell_type": "markdown",
   "metadata": {},
   "source": [
    "## Executive Summary\n",
    "---\n",
    "When it comes to searching for new house, ask a home buyer to describe their dream house, and they probably won't begin with, rather or not if the garage is attached to the house or the square feet of second floor. With 79 explanatory variables describing (almost) every aspect of residential homes in Ames, Iowa, I will use different methods in machine learning and select the one that can produce the most accurate prediction.\n",
    "\n",
    "## Problem Statement:\n",
    "So what are the features that actually impact the housing price the most in Ames, Iowa? \n",
    "\n",
    "### Contents:\n",
    "- [Data Clearning](#Data-cleaning%3A-Initial)\n",
    "- [Fixing Null Values](#Fixing-Null-Values)\n",
    "- [Set up X and Y](#Set-up-<code>X<%2Fcode>-and-<code>y<%2Fcode>)\n",
    "- [Create training and validation sets the data](#Create-training-and-validation-sets-the-data)\n",
    "- [Manual Feature Selection](#Manual-Feature-Selection)\n",
    "---\n"
   ]
  },
  {
   "cell_type": "markdown",
   "metadata": {},
   "source": [
    "### Importing libaries\n",
    "\n",
    "\n"
   ]
  },
  {
   "cell_type": "code",
   "execution_count": 1,
   "metadata": {},
   "outputs": [],
   "source": [
    "import pandas as pd\n",
    "import numpy as np\n",
    "import seaborn as sns\n",
    "import matplotlib.pyplot as plt\n",
    "from sklearn.model_selection import train_test_split, cross_val_score\n",
    "from sklearn.linear_model import LinearRegression, LassoCV, RidgeCV\n",
    "from sklearn.preprocessing import StandardScaler, PolynomialFeatures\n",
    "from sklearn.metrics import r2_score, mean_squared_error\n",
    "from sklearn.pipeline import Pipeline\n",
    "from sklearn.feature_selection import VarianceThreshold, SelectKBest, SelectPercentile, SelectFromModel, f_regression, RFECV\n",
    "import sklearn.linear_model as linear_model\n",
    "import pickle\n",
    "import csv\n",
    "\n",
    "%matplotlib inline"
   ]
  },
  {
   "cell_type": "markdown",
   "metadata": {},
   "source": [
    "### Import Data into DataFrame\n",
    "\n"
   ]
  },
  {
   "cell_type": "code",
   "execution_count": 2,
   "metadata": {},
   "outputs": [
    {
     "data": {
      "text/html": [
       "<div>\n",
       "<style scoped>\n",
       "    .dataframe tbody tr th:only-of-type {\n",
       "        vertical-align: middle;\n",
       "    }\n",
       "\n",
       "    .dataframe tbody tr th {\n",
       "        vertical-align: top;\n",
       "    }\n",
       "\n",
       "    .dataframe thead th {\n",
       "        text-align: right;\n",
       "    }\n",
       "</style>\n",
       "<table border=\"1\" class=\"dataframe\">\n",
       "  <thead>\n",
       "    <tr style=\"text-align: right;\">\n",
       "      <th></th>\n",
       "      <th>PID</th>\n",
       "      <th>MS SubClass</th>\n",
       "      <th>MS Zoning</th>\n",
       "      <th>Lot Frontage</th>\n",
       "      <th>Lot Area</th>\n",
       "      <th>Street</th>\n",
       "      <th>Alley</th>\n",
       "      <th>Lot Shape</th>\n",
       "      <th>Land Contour</th>\n",
       "      <th>Utilities</th>\n",
       "      <th>...</th>\n",
       "      <th>Screen Porch</th>\n",
       "      <th>Pool Area</th>\n",
       "      <th>Pool QC</th>\n",
       "      <th>Fence</th>\n",
       "      <th>Misc Feature</th>\n",
       "      <th>Misc Val</th>\n",
       "      <th>Mo Sold</th>\n",
       "      <th>Yr Sold</th>\n",
       "      <th>Sale Type</th>\n",
       "      <th>SalePrice</th>\n",
       "    </tr>\n",
       "    <tr>\n",
       "      <th>Id</th>\n",
       "      <th></th>\n",
       "      <th></th>\n",
       "      <th></th>\n",
       "      <th></th>\n",
       "      <th></th>\n",
       "      <th></th>\n",
       "      <th></th>\n",
       "      <th></th>\n",
       "      <th></th>\n",
       "      <th></th>\n",
       "      <th></th>\n",
       "      <th></th>\n",
       "      <th></th>\n",
       "      <th></th>\n",
       "      <th></th>\n",
       "      <th></th>\n",
       "      <th></th>\n",
       "      <th></th>\n",
       "      <th></th>\n",
       "      <th></th>\n",
       "      <th></th>\n",
       "    </tr>\n",
       "  </thead>\n",
       "  <tbody>\n",
       "    <tr>\n",
       "      <th>109</th>\n",
       "      <td>533352170</td>\n",
       "      <td>60</td>\n",
       "      <td>RL</td>\n",
       "      <td>NaN</td>\n",
       "      <td>13517</td>\n",
       "      <td>Pave</td>\n",
       "      <td>NaN</td>\n",
       "      <td>IR1</td>\n",
       "      <td>Lvl</td>\n",
       "      <td>AllPub</td>\n",
       "      <td>...</td>\n",
       "      <td>0</td>\n",
       "      <td>0</td>\n",
       "      <td>NaN</td>\n",
       "      <td>NaN</td>\n",
       "      <td>NaN</td>\n",
       "      <td>0</td>\n",
       "      <td>3</td>\n",
       "      <td>2010</td>\n",
       "      <td>WD</td>\n",
       "      <td>130500</td>\n",
       "    </tr>\n",
       "    <tr>\n",
       "      <th>544</th>\n",
       "      <td>531379050</td>\n",
       "      <td>60</td>\n",
       "      <td>RL</td>\n",
       "      <td>43.0</td>\n",
       "      <td>11492</td>\n",
       "      <td>Pave</td>\n",
       "      <td>NaN</td>\n",
       "      <td>IR1</td>\n",
       "      <td>Lvl</td>\n",
       "      <td>AllPub</td>\n",
       "      <td>...</td>\n",
       "      <td>0</td>\n",
       "      <td>0</td>\n",
       "      <td>NaN</td>\n",
       "      <td>NaN</td>\n",
       "      <td>NaN</td>\n",
       "      <td>0</td>\n",
       "      <td>4</td>\n",
       "      <td>2009</td>\n",
       "      <td>WD</td>\n",
       "      <td>220000</td>\n",
       "    </tr>\n",
       "    <tr>\n",
       "      <th>153</th>\n",
       "      <td>535304180</td>\n",
       "      <td>20</td>\n",
       "      <td>RL</td>\n",
       "      <td>68.0</td>\n",
       "      <td>7922</td>\n",
       "      <td>Pave</td>\n",
       "      <td>NaN</td>\n",
       "      <td>Reg</td>\n",
       "      <td>Lvl</td>\n",
       "      <td>AllPub</td>\n",
       "      <td>...</td>\n",
       "      <td>0</td>\n",
       "      <td>0</td>\n",
       "      <td>NaN</td>\n",
       "      <td>NaN</td>\n",
       "      <td>NaN</td>\n",
       "      <td>0</td>\n",
       "      <td>1</td>\n",
       "      <td>2010</td>\n",
       "      <td>WD</td>\n",
       "      <td>109000</td>\n",
       "    </tr>\n",
       "    <tr>\n",
       "      <th>318</th>\n",
       "      <td>916386060</td>\n",
       "      <td>60</td>\n",
       "      <td>RL</td>\n",
       "      <td>73.0</td>\n",
       "      <td>9802</td>\n",
       "      <td>Pave</td>\n",
       "      <td>NaN</td>\n",
       "      <td>Reg</td>\n",
       "      <td>Lvl</td>\n",
       "      <td>AllPub</td>\n",
       "      <td>...</td>\n",
       "      <td>0</td>\n",
       "      <td>0</td>\n",
       "      <td>NaN</td>\n",
       "      <td>NaN</td>\n",
       "      <td>NaN</td>\n",
       "      <td>0</td>\n",
       "      <td>4</td>\n",
       "      <td>2010</td>\n",
       "      <td>WD</td>\n",
       "      <td>174000</td>\n",
       "    </tr>\n",
       "    <tr>\n",
       "      <th>255</th>\n",
       "      <td>906425045</td>\n",
       "      <td>50</td>\n",
       "      <td>RL</td>\n",
       "      <td>82.0</td>\n",
       "      <td>14235</td>\n",
       "      <td>Pave</td>\n",
       "      <td>NaN</td>\n",
       "      <td>IR1</td>\n",
       "      <td>Lvl</td>\n",
       "      <td>AllPub</td>\n",
       "      <td>...</td>\n",
       "      <td>0</td>\n",
       "      <td>0</td>\n",
       "      <td>NaN</td>\n",
       "      <td>NaN</td>\n",
       "      <td>NaN</td>\n",
       "      <td>0</td>\n",
       "      <td>3</td>\n",
       "      <td>2010</td>\n",
       "      <td>WD</td>\n",
       "      <td>138500</td>\n",
       "    </tr>\n",
       "  </tbody>\n",
       "</table>\n",
       "<p>5 rows × 80 columns</p>\n",
       "</div>"
      ],
      "text/plain": [
       "           PID  MS SubClass MS Zoning  Lot Frontage  Lot Area Street Alley  \\\n",
       "Id                                                                           \n",
       "109  533352170           60        RL           NaN     13517   Pave   NaN   \n",
       "544  531379050           60        RL          43.0     11492   Pave   NaN   \n",
       "153  535304180           20        RL          68.0      7922   Pave   NaN   \n",
       "318  916386060           60        RL          73.0      9802   Pave   NaN   \n",
       "255  906425045           50        RL          82.0     14235   Pave   NaN   \n",
       "\n",
       "    Lot Shape Land Contour Utilities    ...     Screen Porch Pool Area  \\\n",
       "Id                                      ...                              \n",
       "109       IR1          Lvl    AllPub    ...                0         0   \n",
       "544       IR1          Lvl    AllPub    ...                0         0   \n",
       "153       Reg          Lvl    AllPub    ...                0         0   \n",
       "318       Reg          Lvl    AllPub    ...                0         0   \n",
       "255       IR1          Lvl    AllPub    ...                0         0   \n",
       "\n",
       "    Pool QC Fence Misc Feature Misc Val Mo Sold  Yr Sold  Sale Type  SalePrice  \n",
       "Id                                                                              \n",
       "109     NaN   NaN          NaN        0       3     2010        WD      130500  \n",
       "544     NaN   NaN          NaN        0       4     2009        WD      220000  \n",
       "153     NaN   NaN          NaN        0       1     2010        WD      109000  \n",
       "318     NaN   NaN          NaN        0       4     2010        WD      174000  \n",
       "255     NaN   NaN          NaN        0       3     2010        WD      138500  \n",
       "\n",
       "[5 rows x 80 columns]"
      ]
     },
     "execution_count": 2,
     "metadata": {},
     "output_type": "execute_result"
    }
   ],
   "source": [
    "df = pd.read_csv('../datasets/train.csv', index_col='Id')\n",
    "df_test = pd.read_csv('../datasets/test.csv')\n",
    "df.head()"
   ]
  },
  {
   "cell_type": "markdown",
   "metadata": {},
   "source": [
    "## Data cleaning: Initial\n",
    "---"
   ]
  },
  {
   "cell_type": "code",
   "execution_count": 3,
   "metadata": {},
   "outputs": [
    {
     "data": {
      "text/plain": [
       "count      2051.000000\n",
       "mean     181469.701609\n",
       "std       79258.659352\n",
       "min       12789.000000\n",
       "25%      129825.000000\n",
       "50%      162500.000000\n",
       "75%      214000.000000\n",
       "max      611657.000000\n",
       "Name: SalePrice, dtype: float64"
      ]
     },
     "execution_count": 3,
     "metadata": {},
     "output_type": "execute_result"
    }
   ],
   "source": [
    "df['SalePrice'].describe()"
   ]
  },
  {
   "cell_type": "code",
   "execution_count": 4,
   "metadata": {},
   "outputs": [
    {
     "data": {
      "text/plain": [
       "PID                 int64\n",
       "MS SubClass         int64\n",
       "MS Zoning          object\n",
       "Lot Frontage      float64\n",
       "Lot Area            int64\n",
       "Street             object\n",
       "Alley              object\n",
       "Lot Shape          object\n",
       "Land Contour       object\n",
       "Utilities          object\n",
       "Lot Config         object\n",
       "Land Slope         object\n",
       "Neighborhood       object\n",
       "Condition 1        object\n",
       "Condition 2        object\n",
       "Bldg Type          object\n",
       "House Style        object\n",
       "Overall Qual        int64\n",
       "Overall Cond        int64\n",
       "Year Built          int64\n",
       "Year Remod/Add      int64\n",
       "Roof Style         object\n",
       "Roof Matl          object\n",
       "Exterior 1st       object\n",
       "Exterior 2nd       object\n",
       "Mas Vnr Type       object\n",
       "Mas Vnr Area      float64\n",
       "Exter Qual         object\n",
       "Exter Cond         object\n",
       "Foundation         object\n",
       "                   ...   \n",
       "Half Bath           int64\n",
       "Bedroom AbvGr       int64\n",
       "Kitchen AbvGr       int64\n",
       "Kitchen Qual       object\n",
       "TotRms AbvGrd       int64\n",
       "Functional         object\n",
       "Fireplaces          int64\n",
       "Fireplace Qu       object\n",
       "Garage Type        object\n",
       "Garage Yr Blt     float64\n",
       "Garage Finish      object\n",
       "Garage Cars       float64\n",
       "Garage Area       float64\n",
       "Garage Qual        object\n",
       "Garage Cond        object\n",
       "Paved Drive        object\n",
       "Wood Deck SF        int64\n",
       "Open Porch SF       int64\n",
       "Enclosed Porch      int64\n",
       "3Ssn Porch          int64\n",
       "Screen Porch        int64\n",
       "Pool Area           int64\n",
       "Pool QC            object\n",
       "Fence              object\n",
       "Misc Feature       object\n",
       "Misc Val            int64\n",
       "Mo Sold             int64\n",
       "Yr Sold             int64\n",
       "Sale Type          object\n",
       "SalePrice           int64\n",
       "Length: 80, dtype: object"
      ]
     },
     "execution_count": 4,
     "metadata": {},
     "output_type": "execute_result"
    }
   ],
   "source": [
    "# Checking the types of data we're dealing with\n",
    "df.dtypes"
   ]
  },
  {
   "cell_type": "code",
   "execution_count": 5,
   "metadata": {},
   "outputs": [
    {
     "data": {
      "text/html": [
       "<div>\n",
       "<style scoped>\n",
       "    .dataframe tbody tr th:only-of-type {\n",
       "        vertical-align: middle;\n",
       "    }\n",
       "\n",
       "    .dataframe tbody tr th {\n",
       "        vertical-align: top;\n",
       "    }\n",
       "\n",
       "    .dataframe thead th {\n",
       "        text-align: right;\n",
       "    }\n",
       "</style>\n",
       "<table border=\"1\" class=\"dataframe\">\n",
       "  <thead>\n",
       "    <tr style=\"text-align: right;\">\n",
       "      <th></th>\n",
       "      <th>pid</th>\n",
       "      <th>ms_subclass</th>\n",
       "      <th>ms_zoning</th>\n",
       "      <th>lot_frontage</th>\n",
       "      <th>lot_area</th>\n",
       "      <th>street</th>\n",
       "      <th>alley</th>\n",
       "      <th>lot_shape</th>\n",
       "      <th>land_contour</th>\n",
       "      <th>utilities</th>\n",
       "      <th>...</th>\n",
       "      <th>screen_porch</th>\n",
       "      <th>pool_area</th>\n",
       "      <th>pool_qc</th>\n",
       "      <th>fence</th>\n",
       "      <th>misc_feature</th>\n",
       "      <th>misc_val</th>\n",
       "      <th>mo_sold</th>\n",
       "      <th>yr_sold</th>\n",
       "      <th>sale_type</th>\n",
       "      <th>saleprice</th>\n",
       "    </tr>\n",
       "    <tr>\n",
       "      <th>Id</th>\n",
       "      <th></th>\n",
       "      <th></th>\n",
       "      <th></th>\n",
       "      <th></th>\n",
       "      <th></th>\n",
       "      <th></th>\n",
       "      <th></th>\n",
       "      <th></th>\n",
       "      <th></th>\n",
       "      <th></th>\n",
       "      <th></th>\n",
       "      <th></th>\n",
       "      <th></th>\n",
       "      <th></th>\n",
       "      <th></th>\n",
       "      <th></th>\n",
       "      <th></th>\n",
       "      <th></th>\n",
       "      <th></th>\n",
       "      <th></th>\n",
       "      <th></th>\n",
       "    </tr>\n",
       "  </thead>\n",
       "  <tbody>\n",
       "    <tr>\n",
       "      <th>109</th>\n",
       "      <td>533352170</td>\n",
       "      <td>60</td>\n",
       "      <td>RL</td>\n",
       "      <td>NaN</td>\n",
       "      <td>13517</td>\n",
       "      <td>Pave</td>\n",
       "      <td>NaN</td>\n",
       "      <td>IR1</td>\n",
       "      <td>Lvl</td>\n",
       "      <td>AllPub</td>\n",
       "      <td>...</td>\n",
       "      <td>0</td>\n",
       "      <td>0</td>\n",
       "      <td>NaN</td>\n",
       "      <td>NaN</td>\n",
       "      <td>NaN</td>\n",
       "      <td>0</td>\n",
       "      <td>3</td>\n",
       "      <td>2010</td>\n",
       "      <td>WD</td>\n",
       "      <td>130500</td>\n",
       "    </tr>\n",
       "    <tr>\n",
       "      <th>544</th>\n",
       "      <td>531379050</td>\n",
       "      <td>60</td>\n",
       "      <td>RL</td>\n",
       "      <td>43.0</td>\n",
       "      <td>11492</td>\n",
       "      <td>Pave</td>\n",
       "      <td>NaN</td>\n",
       "      <td>IR1</td>\n",
       "      <td>Lvl</td>\n",
       "      <td>AllPub</td>\n",
       "      <td>...</td>\n",
       "      <td>0</td>\n",
       "      <td>0</td>\n",
       "      <td>NaN</td>\n",
       "      <td>NaN</td>\n",
       "      <td>NaN</td>\n",
       "      <td>0</td>\n",
       "      <td>4</td>\n",
       "      <td>2009</td>\n",
       "      <td>WD</td>\n",
       "      <td>220000</td>\n",
       "    </tr>\n",
       "    <tr>\n",
       "      <th>153</th>\n",
       "      <td>535304180</td>\n",
       "      <td>20</td>\n",
       "      <td>RL</td>\n",
       "      <td>68.0</td>\n",
       "      <td>7922</td>\n",
       "      <td>Pave</td>\n",
       "      <td>NaN</td>\n",
       "      <td>Reg</td>\n",
       "      <td>Lvl</td>\n",
       "      <td>AllPub</td>\n",
       "      <td>...</td>\n",
       "      <td>0</td>\n",
       "      <td>0</td>\n",
       "      <td>NaN</td>\n",
       "      <td>NaN</td>\n",
       "      <td>NaN</td>\n",
       "      <td>0</td>\n",
       "      <td>1</td>\n",
       "      <td>2010</td>\n",
       "      <td>WD</td>\n",
       "      <td>109000</td>\n",
       "    </tr>\n",
       "    <tr>\n",
       "      <th>318</th>\n",
       "      <td>916386060</td>\n",
       "      <td>60</td>\n",
       "      <td>RL</td>\n",
       "      <td>73.0</td>\n",
       "      <td>9802</td>\n",
       "      <td>Pave</td>\n",
       "      <td>NaN</td>\n",
       "      <td>Reg</td>\n",
       "      <td>Lvl</td>\n",
       "      <td>AllPub</td>\n",
       "      <td>...</td>\n",
       "      <td>0</td>\n",
       "      <td>0</td>\n",
       "      <td>NaN</td>\n",
       "      <td>NaN</td>\n",
       "      <td>NaN</td>\n",
       "      <td>0</td>\n",
       "      <td>4</td>\n",
       "      <td>2010</td>\n",
       "      <td>WD</td>\n",
       "      <td>174000</td>\n",
       "    </tr>\n",
       "    <tr>\n",
       "      <th>255</th>\n",
       "      <td>906425045</td>\n",
       "      <td>50</td>\n",
       "      <td>RL</td>\n",
       "      <td>82.0</td>\n",
       "      <td>14235</td>\n",
       "      <td>Pave</td>\n",
       "      <td>NaN</td>\n",
       "      <td>IR1</td>\n",
       "      <td>Lvl</td>\n",
       "      <td>AllPub</td>\n",
       "      <td>...</td>\n",
       "      <td>0</td>\n",
       "      <td>0</td>\n",
       "      <td>NaN</td>\n",
       "      <td>NaN</td>\n",
       "      <td>NaN</td>\n",
       "      <td>0</td>\n",
       "      <td>3</td>\n",
       "      <td>2010</td>\n",
       "      <td>WD</td>\n",
       "      <td>138500</td>\n",
       "    </tr>\n",
       "  </tbody>\n",
       "</table>\n",
       "<p>5 rows × 80 columns</p>\n",
       "</div>"
      ],
      "text/plain": [
       "           pid  ms_subclass ms_zoning  lot_frontage  lot_area street alley  \\\n",
       "Id                                                                           \n",
       "109  533352170           60        RL           NaN     13517   Pave   NaN   \n",
       "544  531379050           60        RL          43.0     11492   Pave   NaN   \n",
       "153  535304180           20        RL          68.0      7922   Pave   NaN   \n",
       "318  916386060           60        RL          73.0      9802   Pave   NaN   \n",
       "255  906425045           50        RL          82.0     14235   Pave   NaN   \n",
       "\n",
       "    lot_shape land_contour utilities    ...     screen_porch pool_area  \\\n",
       "Id                                      ...                              \n",
       "109       IR1          Lvl    AllPub    ...                0         0   \n",
       "544       IR1          Lvl    AllPub    ...                0         0   \n",
       "153       Reg          Lvl    AllPub    ...                0         0   \n",
       "318       Reg          Lvl    AllPub    ...                0         0   \n",
       "255       IR1          Lvl    AllPub    ...                0         0   \n",
       "\n",
       "    pool_qc fence misc_feature misc_val mo_sold  yr_sold  sale_type  saleprice  \n",
       "Id                                                                              \n",
       "109     NaN   NaN          NaN        0       3     2010        WD      130500  \n",
       "544     NaN   NaN          NaN        0       4     2009        WD      220000  \n",
       "153     NaN   NaN          NaN        0       1     2010        WD      109000  \n",
       "318     NaN   NaN          NaN        0       4     2010        WD      174000  \n",
       "255     NaN   NaN          NaN        0       3     2010        WD      138500  \n",
       "\n",
       "[5 rows x 80 columns]"
      ]
     },
     "execution_count": 5,
     "metadata": {},
     "output_type": "execute_result"
    }
   ],
   "source": [
    "# rename columns with lower case and replace space with _ so it's easier for me to work with\n",
    "df.columns = [i.lower().replace(' ','_') for i in df.columns]\n",
    "df.head()"
   ]
  },
  {
   "cell_type": "code",
   "execution_count": 6,
   "metadata": {},
   "outputs": [
    {
     "data": {
      "text/plain": [
       "lot_frontage       330\n",
       "alley             1911\n",
       "mas_vnr_type        22\n",
       "mas_vnr_area        22\n",
       "bsmt_qual           55\n",
       "bsmt_cond           55\n",
       "bsmt_exposure       58\n",
       "bsmtfin_type_1      55\n",
       "bsmtfin_sf_1         1\n",
       "bsmtfin_type_2      56\n",
       "bsmtfin_sf_2         1\n",
       "bsmt_unf_sf          1\n",
       "total_bsmt_sf        1\n",
       "bsmt_full_bath       2\n",
       "bsmt_half_bath       2\n",
       "fireplace_qu      1000\n",
       "garage_type        113\n",
       "garage_yr_blt      114\n",
       "garage_finish      114\n",
       "garage_cars          1\n",
       "garage_area          1\n",
       "garage_qual        114\n",
       "garage_cond        114\n",
       "pool_qc           2042\n",
       "fence             1651\n",
       "misc_feature      1986\n",
       "dtype: int64"
      ]
     },
     "execution_count": 6,
     "metadata": {},
     "output_type": "execute_result"
    }
   ],
   "source": [
    "# calling out all the colums that have null value\n",
    "df.isnull().sum()[df.isnull().sum()>0]"
   ]
  },
  {
   "cell_type": "markdown",
   "metadata": {},
   "source": [
    "## What to do with the Null Value\n",
    "---\n",
    "- **DROP Lot Frontage (Continuous): Linear feet of street connected to property**\n",
    "    - **null meaning there's 0 linear feet of street connected to property**\n",
    "    - **will drop**\n",
    "---\n",
    "- **DROP Alley (Nominal): Type of alley access to property**\n",
    "    - **null meaning no alley access**\n",
    "    - **changing null to None; however, does not apply to SalePrice. Will Drop**\n",
    "---\n",
    "- Mas Vnr Type (Nominal): Masonry veneer type\n",
    "    - null meaning None\n",
    "    - changing null to None\n",
    "- Mas Vnr Area (Continuous): Masonry veneer area in square feet\n",
    "    - nulls are the missing values \n",
    "    - going to replace to 0.0\n",
    "- Bsmt Qual (Ordinal): Evaluates the height of the basement\n",
    "    - null meaning no basement\n",
    "    - replace null with NA\n",
    "- Bsmt Cond (Ordinal): Evaluates the general condition of the basement\n",
    "    - null emaning no basement\n",
    "    - replace null with NA\n",
    "- Bsmt Exposure (Ordinal): Refers to walkout or garden level walls\n",
    "    - null meaning no basement\n",
    "    - replace null with NA\n",
    "- BsmtFin Type 1 (Ordinal): Rating of basement finished area\n",
    "    - null meaning no basement\n",
    "    - replace null with NA\n",
    "- BsmtFin SF 1 (Continuous): Type 1 finished square feet\n",
    "    - only have 1 null value, missing data\n",
    "    - replace null with 0.0\n",
    "- BsmtFinType 2 (Ordinal): Rating of basement finished area (if multiple types)\n",
    "    - null meaning no basement\n",
    "    - replace null with NA\n",
    "- BsmtFin SF 2 (Continuous): Type 2 finished square feet\n",
    "    - null meaning no basement to measure the square feet (only have one null value)\n",
    "    - replace null with 0.0\n",
    "---\n",
    "- **DROP-ROW Bsmt Unf SF (Continuous): Unfinished square feet of basement area**\n",
    "    - **null meaning no basement and only have one null value**\n",
    "    - **can't replace with 0.0 due to that meaning it has a completed basement; therefore dropping this row**\n",
    "---\n",
    "- Total Bsmt SF (Continuous): Total square feet of basement area\n",
    "    - only one house have null value\n",
    "    - will replace null with 0.0\n",
    "- Bsmt Full Bath (Discrete): Basement full bathrooms\n",
    "    - only 2 null values \n",
    "    - replace nulll with 0.0\n",
    "- Bsmt Half Bath (Discrete): Basement half bathrooms\n",
    "    - only 2 null values\n",
    "    - replace null with 0.0\n",
    "- FireplaceQu (Ordinal): Fireplace quality\n",
    "    - null meaning no fire place\n",
    "    - replacen null with NA\n",
    "- Garage Type (Garage location)\n",
    "    - null meaning no garage\n",
    "    - replace null with NA\n",
    "---\n",
    "- **DROP Garage Yr Blt (Year garage was built)**\n",
    "    - **null meaning either no garage, or missing data**\n",
    "    - **this doesn't seem to have correlation with SalePrice, therefore will drop**\n",
    "---\n",
    "- Garage Finish\n",
    "    - 113 houses with no garage as seen above\n",
    "    - and one house with no record of finish\n",
    "- Garage Cars (Size of garage in car capacity)\n",
    "    - only one null meaning no garage\n",
    "    - will replace null with 0.0\n",
    "- Garage Area\n",
    "    - only one null meaning no garage\n",
    "    - will replace null with 0.0\n",
    "- Garage Qual (Garage quality)\n",
    "    - null meaning no garage\n",
    "    - will replace with NA\n",
    "- Garage Cond (Garage condition)\n",
    "    - null might be missing data\n",
    "    - replace null with NA for now\n",
    "- Pool QC (Pool quality)\n",
    "    - null meaning no pool\n",
    "- Fence (Fence quality)\n",
    "    - null meaning property have no fence, replace null with 0.0\n",
    "---\n",
    "- **DROP Misc Feature (Miscellaneous feature not covered in other categories)**\n",
    "    - **will drop**\n",
    "---"
   ]
  },
  {
   "cell_type": "markdown",
   "metadata": {},
   "source": [
    "## Fixing Null Values"
   ]
  },
  {
   "cell_type": "code",
   "execution_count": 7,
   "metadata": {},
   "outputs": [],
   "source": [
    "# replace null values with interprtation from above\n",
    "df.fillna(value={'mas_vnr_type': 'None','bsmt_qual': 'NA','bsmt_cond': 'NA','bsmt_exposure': 'NA','bsmtfin_type_1': 'NA',\n",
    "                 'bsmtfin_type_2': 'NA','fireplace_qu': 'NA','garage_type': 'NA','garage_finish': 'NA','garage_qual': 'NA','garage_cond': 'NA',\n",
    "                 'paved_drive': 'NA', 'mas_vnr_area': 0.0,'bsmtfin_sf_1': 0.0,'bsmtfin_sf_2': 0.0,'total_bsmt_sf': 0.0,'bsmt_full_bath': 0.0,\n",
    "                 'bsmt_half_bath': 0.0, 'garage_cars': 0.0, 'garage_area': 0.0, 'fence': 0.0,'pool_qc':'NA'}, axis=0, inplace=True)"
   ]
  },
  {
   "cell_type": "code",
   "execution_count": 8,
   "metadata": {},
   "outputs": [],
   "source": [
    "# dropping the columns that won't reflect the saleprice\n",
    "df.drop(['lot_frontage','pid','alley','pool_qc','fence','misc_feature','garage_yr_blt','exterior_1st','exterior_2nd'], axis=1, inplace=True)"
   ]
  },
  {
   "cell_type": "code",
   "execution_count": 9,
   "metadata": {},
   "outputs": [
    {
     "data": {
      "text/html": [
       "<div>\n",
       "<style scoped>\n",
       "    .dataframe tbody tr th:only-of-type {\n",
       "        vertical-align: middle;\n",
       "    }\n",
       "\n",
       "    .dataframe tbody tr th {\n",
       "        vertical-align: top;\n",
       "    }\n",
       "\n",
       "    .dataframe thead th {\n",
       "        text-align: right;\n",
       "    }\n",
       "</style>\n",
       "<table border=\"1\" class=\"dataframe\">\n",
       "  <thead>\n",
       "    <tr style=\"text-align: right;\">\n",
       "      <th></th>\n",
       "      <th>ms_subclass</th>\n",
       "      <th>ms_zoning</th>\n",
       "      <th>lot_area</th>\n",
       "      <th>street</th>\n",
       "      <th>lot_shape</th>\n",
       "      <th>land_contour</th>\n",
       "      <th>utilities</th>\n",
       "      <th>lot_config</th>\n",
       "      <th>land_slope</th>\n",
       "      <th>neighborhood</th>\n",
       "      <th>...</th>\n",
       "      <th>open_porch_sf</th>\n",
       "      <th>enclosed_porch</th>\n",
       "      <th>3ssn_porch</th>\n",
       "      <th>screen_porch</th>\n",
       "      <th>pool_area</th>\n",
       "      <th>misc_val</th>\n",
       "      <th>mo_sold</th>\n",
       "      <th>yr_sold</th>\n",
       "      <th>sale_type</th>\n",
       "      <th>saleprice</th>\n",
       "    </tr>\n",
       "    <tr>\n",
       "      <th>Id</th>\n",
       "      <th></th>\n",
       "      <th></th>\n",
       "      <th></th>\n",
       "      <th></th>\n",
       "      <th></th>\n",
       "      <th></th>\n",
       "      <th></th>\n",
       "      <th></th>\n",
       "      <th></th>\n",
       "      <th></th>\n",
       "      <th></th>\n",
       "      <th></th>\n",
       "      <th></th>\n",
       "      <th></th>\n",
       "      <th></th>\n",
       "      <th></th>\n",
       "      <th></th>\n",
       "      <th></th>\n",
       "      <th></th>\n",
       "      <th></th>\n",
       "      <th></th>\n",
       "    </tr>\n",
       "  </thead>\n",
       "  <tbody>\n",
       "    <tr>\n",
       "      <th>1342</th>\n",
       "      <td>20</td>\n",
       "      <td>RM</td>\n",
       "      <td>5940</td>\n",
       "      <td>Pave</td>\n",
       "      <td>IR1</td>\n",
       "      <td>Lvl</td>\n",
       "      <td>AllPub</td>\n",
       "      <td>FR3</td>\n",
       "      <td>Gtl</td>\n",
       "      <td>BrkSide</td>\n",
       "      <td>...</td>\n",
       "      <td>0</td>\n",
       "      <td>0</td>\n",
       "      <td>0</td>\n",
       "      <td>0</td>\n",
       "      <td>0</td>\n",
       "      <td>0</td>\n",
       "      <td>4</td>\n",
       "      <td>2008</td>\n",
       "      <td>ConLD</td>\n",
       "      <td>79000</td>\n",
       "    </tr>\n",
       "  </tbody>\n",
       "</table>\n",
       "<p>1 rows × 71 columns</p>\n",
       "</div>"
      ],
      "text/plain": [
       "      ms_subclass ms_zoning  lot_area street lot_shape land_contour utilities  \\\n",
       "Id                                                                              \n",
       "1342           20        RM      5940   Pave       IR1          Lvl    AllPub   \n",
       "\n",
       "     lot_config land_slope neighborhood    ...    open_porch_sf  \\\n",
       "Id                                         ...                    \n",
       "1342        FR3        Gtl      BrkSide    ...                0   \n",
       "\n",
       "     enclosed_porch 3ssn_porch screen_porch  pool_area  misc_val  mo_sold  \\\n",
       "Id                                                                          \n",
       "1342              0          0            0          0         0        4   \n",
       "\n",
       "      yr_sold sale_type saleprice  \n",
       "Id                                 \n",
       "1342     2008     ConLD     79000  \n",
       "\n",
       "[1 rows x 71 columns]"
      ]
     },
     "execution_count": 9,
     "metadata": {},
     "output_type": "execute_result"
    }
   ],
   "source": [
    "df[df.bsmt_unf_sf.isnull()]"
   ]
  },
  {
   "cell_type": "code",
   "execution_count": 10,
   "metadata": {},
   "outputs": [],
   "source": [
    "# dropping this row mentioned above\n",
    "df.drop(df.index[[1327]], inplace=True)"
   ]
  },
  {
   "cell_type": "code",
   "execution_count": 11,
   "metadata": {},
   "outputs": [],
   "source": [
    "df.drop(df.index[[333]], inplace=True)"
   ]
  },
  {
   "cell_type": "code",
   "execution_count": 12,
   "metadata": {},
   "outputs": [
    {
     "data": {
      "text/plain": [
       "Series([], dtype: int64)"
      ]
     },
     "execution_count": 12,
     "metadata": {},
     "output_type": "execute_result"
    }
   ],
   "source": [
    "# check if there're still null in the data\n",
    "df.isnull().sum()[df.isnull().sum()>0]"
   ]
  },
  {
   "cell_type": "code",
   "execution_count": 13,
   "metadata": {},
   "outputs": [
    {
     "data": {
      "text/plain": [
       "ms_zoning         object\n",
       "street            object\n",
       "lot_shape         object\n",
       "land_contour      object\n",
       "utilities         object\n",
       "lot_config        object\n",
       "land_slope        object\n",
       "neighborhood      object\n",
       "condition_1       object\n",
       "condition_2       object\n",
       "bldg_type         object\n",
       "house_style       object\n",
       "roof_style        object\n",
       "roof_matl         object\n",
       "mas_vnr_type      object\n",
       "exter_qual        object\n",
       "exter_cond        object\n",
       "foundation        object\n",
       "bsmt_qual         object\n",
       "bsmt_cond         object\n",
       "bsmt_exposure     object\n",
       "bsmtfin_type_1    object\n",
       "bsmtfin_type_2    object\n",
       "heating           object\n",
       "heating_qc        object\n",
       "central_air       object\n",
       "electrical        object\n",
       "kitchen_qual      object\n",
       "functional        object\n",
       "fireplace_qu      object\n",
       "garage_type       object\n",
       "garage_finish     object\n",
       "garage_qual       object\n",
       "garage_cond       object\n",
       "paved_drive       object\n",
       "sale_type         object\n",
       "dtype: object"
      ]
     },
     "execution_count": 13,
     "metadata": {},
     "output_type": "execute_result"
    }
   ],
   "source": [
    "# Check what columns are object\n",
    "df.dtypes[df.dtypes != 'int64'][df.dtypes != 'float64']"
   ]
  },
  {
   "cell_type": "code",
   "execution_count": 14,
   "metadata": {},
   "outputs": [],
   "source": [
    "# set all the objects into a list to apply get_dummies\n",
    "dummies_var = ['ms_zoning',\n",
    "'street',\n",
    "'lot_shape',\n",
    "'land_contour',\n",
    "'utilities',\n",
    "'lot_config',\n",
    "'land_slope',\n",
    "'neighborhood',\n",
    "'condition_1',\n",
    "'condition_2',\n",
    "'bldg_type',\n",
    "'house_style', \n",
    "'roof_style',\n",
    "'roof_matl',\n",
    "'mas_vnr_type',\n",
    "'exter_qual',\n",
    "'exter_cond',\n",
    "'foundation',\n",
    "'bsmt_qual',\n",
    "'bsmt_cond',\n",
    "'bsmt_exposure',\n",
    "'bsmtfin_type_1',\n",
    "'bsmtfin_type_2',\n",
    "'heating',\n",
    "'heating_qc',\n",
    "'central_air',\n",
    "'electrical',\n",
    "'kitchen_qual',\n",
    "'functional',\n",
    "'fireplace_qu',\n",
    "'garage_type',\n",
    "'garage_finish',\n",
    "'garage_qual',\n",
    "'garage_cond',\n",
    "'paved_drive',\n",
    "'sale_type']"
   ]
  },
  {
   "cell_type": "code",
   "execution_count": 15,
   "metadata": {},
   "outputs": [],
   "source": [
    "df_dummies = pd.get_dummies(df, columns = dummies_var)"
   ]
  },
  {
   "cell_type": "code",
   "execution_count": 16,
   "metadata": {},
   "outputs": [],
   "source": [
    "df_dummies['exter_qual_TA_Gd'] = df_dummies['exter_qual_TA'] + df_dummies['exter_qual_Gd']\n",
    "df_dummies['kitchen_qual_TA_Gd'] = df_dummies['kitchen_qual_TA'] + df_dummies['kitchen_qual_Gd'] "
   ]
  },
  {
   "cell_type": "code",
   "execution_count": 17,
   "metadata": {},
   "outputs": [],
   "source": [
    "# Drop the original two columns after combining\n",
    "df_dummies.drop(['exter_qual_Gd','exter_qual_TA','kitchen_qual_TA','kitchen_qual_Gd','garage_cars'], axis=1, inplace=True)"
   ]
  },
  {
   "cell_type": "markdown",
   "metadata": {},
   "source": [
    "The reason why I drop these two features on the top is because there were represented as noise weights when I initially modeled them. So I combined the two different grade of these features together, so it will have higher weights to see if this will impact to our result."
   ]
  },
  {
   "cell_type": "code",
   "execution_count": 18,
   "metadata": {},
   "outputs": [
    {
     "data": {
      "text/plain": [
       "(2049, 250)"
      ]
     },
     "execution_count": 18,
     "metadata": {},
     "output_type": "execute_result"
    }
   ],
   "source": [
    "df_dummies.shape"
   ]
  },
  {
   "cell_type": "markdown",
   "metadata": {},
   "source": [
    "## Manual Feature Selection"
   ]
  },
  {
   "cell_type": "code",
   "execution_count": 19,
   "metadata": {},
   "outputs": [],
   "source": [
    "corr = df_dummies.corr()[['saleprice']].abs().sort_values(by=['saleprice'], ascending=False)\n",
    "final_corr = corr.loc[corr['saleprice'] >= 0.3]"
   ]
  },
  {
   "cell_type": "code",
   "execution_count": 20,
   "metadata": {},
   "outputs": [
    {
     "data": {
      "text/plain": [
       "Index(['saleprice', 'overall_qual', 'gr_liv_area', 'garage_area',\n",
       "       'total_bsmt_sf', '1st_flr_sf', 'bsmt_qual_Ex', 'year_built',\n",
       "       'kitchen_qual_Ex', 'year_remod/add', 'full_bath', 'foundation_PConc',\n",
       "       'totrms_abvgrd', 'mas_vnr_area', 'exter_qual_Ex', 'fireplace_qu_NA',\n",
       "       'fireplaces', 'bsmtfin_type_1_GLQ', 'bsmt_qual_TA', 'heating_qc_Ex',\n",
       "       'neighborhood_NridgHt', 'garage_finish_Unf', 'bsmtfin_sf_1',\n",
       "       'garage_finish_Fin', 'mas_vnr_type_None', 'kitchen_qual_TA_Gd',\n",
       "       'fireplace_qu_Gd', 'bsmt_exposure_Gd', 'garage_type_Detchd',\n",
       "       'exter_qual_TA_Gd', 'sale_type_New', 'garage_type_Attchd',\n",
       "       'foundation_CBlock', 'heating_qc_TA', 'open_porch_sf', 'wood_deck_sf',\n",
       "       'mas_vnr_type_Stone', 'lot_shape_Reg'],\n",
       "      dtype='object')"
      ]
     },
     "execution_count": 20,
     "metadata": {},
     "output_type": "execute_result"
    }
   ],
   "source": [
    "# these are all the features I am going to use for X\n",
    "final_corr.T.columns"
   ]
  },
  {
   "cell_type": "markdown",
   "metadata": {},
   "source": [
    "**Why these variables?**\n",
    "- I've been trying out different coefficient to find our final variables. Initially, I tried to get any features that has 0.5 correlation or above to my final features, however, after applying to the model, it gave me a result of exremetly underfitting. By fixing this issue, I came back and decreased my correlation from 0.5 to 0.4, 0.3, 0.2 etc.. \n",
    "- After several test fits, the best result came out to be 0.3. When I set the correlation on 0.2, my model gave me a result of overfitting. Therefore, I choose the best fit, which is 0.3."
   ]
  },
  {
   "cell_type": "code",
   "execution_count": 21,
   "metadata": {},
   "outputs": [],
   "source": [
    "df_corr =df_dummies[['saleprice', 'overall_qual', 'gr_liv_area', 'garage_area',\n",
    "       'total_bsmt_sf', '1st_flr_sf', 'bsmt_qual_Ex', 'year_built',\n",
    "       'kitchen_qual_Ex', 'year_remod/add', 'full_bath', 'foundation_PConc',\n",
    "       'totrms_abvgrd', 'mas_vnr_area', 'exter_qual_Ex', 'fireplace_qu_NA',\n",
    "       'fireplaces', 'bsmtfin_type_1_GLQ', 'bsmt_qual_TA', 'heating_qc_Ex',\n",
    "       'neighborhood_NridgHt', 'garage_finish_Unf', 'bsmtfin_sf_1',\n",
    "       'garage_finish_Fin', 'mas_vnr_type_None', 'kitchen_qual_TA_Gd',\n",
    "       'fireplace_qu_Gd', 'bsmt_exposure_Gd', 'garage_type_Detchd',\n",
    "       'exter_qual_TA_Gd', 'sale_type_New', 'garage_type_Attchd',\n",
    "       'foundation_CBlock', 'heating_qc_TA', 'open_porch_sf', 'wood_deck_sf',\n",
    "       'mas_vnr_type_Stone', 'lot_shape_Reg']]"
   ]
  },
  {
   "cell_type": "code",
   "execution_count": 22,
   "metadata": {},
   "outputs": [
    {
     "data": {
      "text/plain": [
       "<matplotlib.axes._subplots.AxesSubplot at 0x112a554e0>"
      ]
     },
     "execution_count": 22,
     "metadata": {},
     "output_type": "execute_result"
    },
    {
     "data": {
      "image/png": "[encoded data removed]",
      "text/plain": [
       "<Figure size 864x864 with 2 Axes>"
      ]
     },
     "metadata": {
      "needs_background": "light"
     },
     "output_type": "display_data"
    }
   ],
   "source": [
    "# After cleaning and filtering these are the features I've choosen\n",
    "plt.figure(figsize=(12,12))\n",
    "sns.heatmap(df_corr.corr()[['saleprice']].sort_values('saleprice'), annot=True)"
   ]
  },
  {
   "cell_type": "code",
   "execution_count": 23,
   "metadata": {},
   "outputs": [],
   "source": [
    "def subplot_scatter(dataframe, list_of_columns, list_of_titles):\n",
    "    nrows = int(np.ceil(len(list_of_columns)/2)) \n",
    "    fig, ax = plt.subplots(nrows=nrows, ncols=2, figsize=(15,5*nrows)) \n",
    "    ax = ax.ravel()\n",
    "    if len(list_of_columns) %2 != 0:\n",
    "        ax[len(list_of_columns)].set_visible(False)\n",
    "    for i in range(len(list_of_columns)):\n",
    "        sns.scatterplot(dataframe[list_of_columns[i]], dataframe[list_of_titles[i]], ax=ax[i], alpha='auto')\n",
    "        ax[i].set_title(f\"{list_of_columns[i]} Vs {list_of_titles[i]}\", fontsize=20 )\n",
    "        ax[i].set_ylabel(list_of_titles[i], fontsize=15)\n",
    "        ax[i].set_xlabel(list_of_columns[i], fontsize=15)\n",
    "    plt.tight_layout()"
   ]
  },
  {
   "cell_type": "code",
   "execution_count": 24,
   "metadata": {},
   "outputs": [
    {
     "data": {
      "image/png": "[encoded data removed]",
      "text/plain": [
       "<Figure size 1080x720 with 4 Axes>"
      ]
     },
     "metadata": {
      "needs_background": "light"
     },
     "output_type": "display_data"
    }
   ],
   "source": [
    "subplot_scatter(df_dummies, ['overall_qual', 'gr_liv_area', 'garage_area',\n",
    "       'total_bsmt_sf'],['saleprice','saleprice','saleprice','saleprice'])"
   ]
  },
  {
   "cell_type": "markdown",
   "metadata": {},
   "source": [
    "**Heatmap**\n",
    "- These are the final features that will move on to our modeling step. This is a visual check of what is above correlation of 0.3 to our target saleprice. \n",
    "\n",
    "**Scatterplot**\n",
    "- I selected to top 4 features that are highly correlated to my target and plot them into scatterplot to make sure if there's any linear relationship to our sale prices. In conclusion, we do have linear relationship to the saleprice; however, this isn't the final features that will be our top 4. "
   ]
  },
  {
   "cell_type": "code",
   "execution_count": 25,
   "metadata": {},
   "outputs": [],
   "source": [
    "# save my cleaned data to new csv\n",
    "df_dummies.to_csv('../datasets/df_dummies.csv')"
   ]
  },
  {
   "cell_type": "markdown",
   "metadata": {},
   "source": [
    "## Set up `X` and `y`"
   ]
  },
  {
   "cell_type": "code",
   "execution_count": 26,
   "metadata": {},
   "outputs": [],
   "source": [
    "# set our X and y variable\n",
    "X = df_dummies[['overall_qual', 'gr_liv_area', 'garage_area',\n",
    "       'total_bsmt_sf', '1st_flr_sf', 'bsmt_qual_Ex', 'year_built',\n",
    "       'kitchen_qual_Ex', 'year_remod/add', 'full_bath', 'foundation_PConc',\n",
    "       'totrms_abvgrd', 'mas_vnr_area', 'exter_qual_Ex', 'fireplace_qu_NA',\n",
    "       'fireplaces', 'bsmtfin_type_1_GLQ', 'bsmt_qual_TA', 'heating_qc_Ex',\n",
    "       'neighborhood_NridgHt', 'garage_finish_Unf', 'bsmtfin_sf_1',\n",
    "       'garage_finish_Fin', 'mas_vnr_type_None', 'kitchen_qual_TA_Gd',\n",
    "       'fireplace_qu_Gd', 'bsmt_exposure_Gd', 'garage_type_Detchd',\n",
    "       'exter_qual_TA_Gd', 'sale_type_New', 'garage_type_Attchd',\n",
    "       'foundation_CBlock', 'heating_qc_TA', 'open_porch_sf', 'wood_deck_sf',\n",
    "       'mas_vnr_type_Stone', 'lot_shape_Reg']]\n",
    "y = df_dummies['saleprice']"
   ]
  },
  {
   "cell_type": "markdown",
   "metadata": {},
   "source": [
    "## Create training and validation sets the data"
   ]
  },
  {
   "cell_type": "code",
   "execution_count": 27,
   "metadata": {},
   "outputs": [],
   "source": [
    "X_train, X_test, y_train, y_test = train_test_split(X, y, random_state=420)"
   ]
  },
  {
   "cell_type": "code",
   "execution_count": 28,
   "metadata": {},
   "outputs": [],
   "source": [
    "threshold = VarianceThreshold(.01)\n",
    "X_train_thresh = threshold.fit_transform(X_train)\n",
    "X_test_thresh = threshold.transform(X_test)\n",
    "columns = X.columns[threshold.get_support()]"
   ]
  },
  {
   "cell_type": "markdown",
   "metadata": {},
   "source": [
    "**What does train_test_split do?**\n",
    "- Tran_test_split splits arrays or matrices into random train and test subsets, in this case it splits X which is the variables we choose and y which is our target into random train and test subsets. The random state was set to 420 to make sure we will get the same result if we re-ran the function.\n",
    "\n",
    "**What does VarianceThreshold do?**\n",
    "- Variance Threshold is a feature selector that removes all low-variance features. meaning it will remove a low-variance features from our X that we manually selected."
   ]
  },
  {
   "cell_type": "markdown",
   "metadata": {},
   "source": [
    "## Scale the data"
   ]
  },
  {
   "cell_type": "code",
   "execution_count": 29,
   "metadata": {},
   "outputs": [],
   "source": [
    "ss = StandardScaler()\n",
    "ss.fit(X_train_thresh)\n",
    "\n",
    "X_train_sc = ss.transform(X_train_thresh)\n",
    "X_test_sc = ss.transform(X_test_thresh)"
   ]
  },
  {
   "cell_type": "markdown",
   "metadata": {},
   "source": [
    "- Standard Scaler Standardize our features by removing the mean and scaling to unit variance. "
   ]
  },
  {
   "cell_type": "markdown",
   "metadata": {},
   "source": [
    "## Export my data and scaler for use in future notebooks\n"
   ]
  },
  {
   "cell_type": "code",
   "execution_count": 30,
   "metadata": {},
   "outputs": [],
   "source": [
    "with open('../datasets/X_train_sc.csv', 'w+') as f:\n",
    "    csv_writer = csv.writer(f)\n",
    "    csv_writer.writerows(X_train_sc)"
   ]
  },
  {
   "cell_type": "code",
   "execution_count": 31,
   "metadata": {},
   "outputs": [],
   "source": [
    "with open('../datasets/X_test_sc.csv', 'w+') as f:\n",
    "    csv_writer = csv.writer(f)\n",
    "    csv_writer.writerows(X_test_sc)"
   ]
  },
  {
   "cell_type": "code",
   "execution_count": 32,
   "metadata": {},
   "outputs": [],
   "source": [
    "y_train.to_csv('../datasets/y_train.csv', index=False, header=False)"
   ]
  },
  {
   "cell_type": "code",
   "execution_count": 33,
   "metadata": {},
   "outputs": [],
   "source": [
    "y_test.to_csv('../datasets/y_test.csv', index=False, header=False)"
   ]
  },
  {
   "cell_type": "markdown",
   "metadata": {},
   "source": [
    "## Pickle the scaler"
   ]
  },
  {
   "cell_type": "code",
   "execution_count": 34,
   "metadata": {},
   "outputs": [],
   "source": [
    "with open('../assets/scaler.pkl', 'wb+') as f:\n",
    "    pickle.dump(ss, f)"
   ]
  },
  {
   "cell_type": "code",
   "execution_count": 35,
   "metadata": {},
   "outputs": [],
   "source": [
    "with open('../assets/columns.pkl', 'wb+') as f:\n",
    "    pickle.dump(columns, f)"
   ]
  },
  {
   "cell_type": "code",
   "execution_count": 1,
   "metadata": {},
   "outputs": [
    {
     "ename": "NameError",
     "evalue": "name 'columns' is not defined",
     "output_type": "error",
     "traceback": [
      "\u001b[0;31m---------------------------------------------------------------------------\u001b[0m",
      "\u001b[0;31mNameError\u001b[0m                                 Traceback (most recent call last)",
      "\u001b[0;32m<ipython-input-1-8e7b9895361f>\u001b[0m in \u001b[0;36m<module>\u001b[0;34m\u001b[0m\n\u001b[0;32m----> 1\u001b[0;31m \u001b[0mcolumns\u001b[0m\u001b[0;34m\u001b[0m\u001b[0m\n\u001b[0m",
      "\u001b[0;31mNameError\u001b[0m: name 'columns' is not defined"
     ]
    }
   ],
   "source": [
    "columns"
   ]
  },
  {
   "cell_type": "code",
   "execution_count": null,
   "metadata": {},
   "outputs": [],
   "source": []
  }
 ],
 "metadata": {
  "kernelspec": {
   "display_name": "Python 3",
   "language": "python",
   "name": "python3"
  },
  "language_info": {
   "codemirror_mode": {
    "name": "ipython",
    "version": 3
   },
   "file_extension": ".py",
   "mimetype": "text/x-python",
   "name": "python",
   "nbconvert_exporter": "python",
   "pygments_lexer": "ipython3",
   "version": "3.6.6"
  }
 },
 "nbformat": 4,
 "nbformat_minor": 2
}
