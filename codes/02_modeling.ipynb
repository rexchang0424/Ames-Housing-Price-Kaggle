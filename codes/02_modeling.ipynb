{
 "cells": [
  {
   "cell_type": "markdown",
   "metadata": {},
   "source": [
    "# Ames Housing Data - Modeling\n"
   ]
  },
  {
   "cell_type": "markdown",
   "metadata": {},
   "source": [
    "### Contents:\n",
    "- [Machine Learning: Linear Regression](#Machine-Learning-Model%3A-Linear-Regression)\n",
    "- [Machine Learning: Lasso](#Machine-Learning-Model%3A-Lasso)\n",
    "- [Machine Learning: Ridge](#Machine-Learning-Model%3A-Ridge)\n",
    "- [Graph/Visual Interpretation](#Graph%2FVisual-Interpretation)\n",
    "---"
   ]
  },
  {
   "cell_type": "code",
   "execution_count": 1,
   "metadata": {},
   "outputs": [],
   "source": [
    "import pandas as pd\n",
    "import numpy as np\n",
    "import seaborn as sns\n",
    "import matplotlib.pyplot as plt\n",
    "from sklearn.model_selection import train_test_split\n",
    "from sklearn.linear_model import LinearRegression, LassoCV, RidgeCV, Lasso, Ridge\n",
    "from sklearn.preprocessing import StandardScaler, PolynomialFeatures, MinMaxScaler\n",
    "from sklearn.metrics import r2_score, mean_squared_error\n",
    "from sklearn.pipeline import Pipeline\n",
    "from sklearn.feature_selection import SelectKBest, VarianceThreshold, f_regression\n",
    "import sklearn.linear_model as linear_model\n",
    "import pickle\n",
    "import csv\n",
    "import math\n",
    "\n",
    "%matplotlib inline"
   ]
  },
  {
   "cell_type": "markdown",
   "metadata": {},
   "source": [
    "## Import Scaler, training and test data"
   ]
  },
  {
   "cell_type": "code",
   "execution_count": 2,
   "metadata": {},
   "outputs": [],
   "source": [
    "X_train_sc = pd.read_csv('../datasets/X_train_sc.csv', header=None)\n",
    "X_test_sc = pd.read_csv('../datasets/X_test_sc.csv', header=None)\n",
    "y_train = pd.read_csv('../datasets/y_train.csv', header=None)\n",
    "y_test = pd.read_csv('../datasets/y_test.csv', header=None)"
   ]
  },
  {
   "cell_type": "code",
   "execution_count": 5,
   "metadata": {},
   "outputs": [
    {
     "data": {
      "text/html": [
       "<div>\n",
       "<style scoped>\n",
       "    .dataframe tbody tr th:only-of-type {\n",
       "        vertical-align: middle;\n",
       "    }\n",
       "\n",
       "    .dataframe tbody tr th {\n",
       "        vertical-align: top;\n",
       "    }\n",
       "\n",
       "    .dataframe thead th {\n",
       "        text-align: right;\n",
       "    }\n",
       "</style>\n",
       "<table border=\"1\" class=\"dataframe\">\n",
       "  <thead>\n",
       "    <tr style=\"text-align: right;\">\n",
       "      <th></th>\n",
       "      <th>0</th>\n",
       "    </tr>\n",
       "  </thead>\n",
       "  <tbody>\n",
       "    <tr>\n",
       "      <th>0</th>\n",
       "      <td>177625</td>\n",
       "    </tr>\n",
       "    <tr>\n",
       "      <th>1</th>\n",
       "      <td>158500</td>\n",
       "    </tr>\n",
       "    <tr>\n",
       "      <th>2</th>\n",
       "      <td>184000</td>\n",
       "    </tr>\n",
       "    <tr>\n",
       "      <th>3</th>\n",
       "      <td>175500</td>\n",
       "    </tr>\n",
       "    <tr>\n",
       "      <th>4</th>\n",
       "      <td>235000</td>\n",
       "    </tr>\n",
       "  </tbody>\n",
       "</table>\n",
       "</div>"
      ],
      "text/plain": [
       "        0\n",
       "0  177625\n",
       "1  158500\n",
       "2  184000\n",
       "3  175500\n",
       "4  235000"
      ]
     },
     "execution_count": 5,
     "metadata": {},
     "output_type": "execute_result"
    }
   ],
   "source": [
    "X_train_sc."
   ]
  },
  {
   "cell_type": "code",
   "execution_count": 59,
   "metadata": {},
   "outputs": [],
   "source": [
    "with open('../assets/columns.pkl', 'rb') as f:\n",
    "    columns = pickle.load(f)"
   ]
  },
  {
   "cell_type": "code",
   "execution_count": 60,
   "metadata": {},
   "outputs": [
    {
     "data": {
      "text/plain": [
       "177900.5730994152"
      ]
     },
     "execution_count": 60,
     "metadata": {},
     "output_type": "execute_result"
    }
   ],
   "source": [
    "y_test_mean = np.mean(y_test)\n",
    "y_test_mean[0]"
   ]
  },
  {
   "cell_type": "code",
   "execution_count": 61,
   "metadata": {},
   "outputs": [],
   "source": [
    "y_test['mean'] = y_test_mean[0]"
   ]
  },
  {
   "cell_type": "code",
   "execution_count": 62,
   "metadata": {},
   "outputs": [
    {
     "data": {
      "text/plain": [
       "73586.60526810591"
      ]
     },
     "execution_count": 62,
     "metadata": {},
     "output_type": "execute_result"
    }
   ],
   "source": [
    "math.sqrt(mean_squared_error(y_test[0], y_test['mean']))"
   ]
  },
  {
   "cell_type": "markdown",
   "metadata": {},
   "source": [
    "**What is this?**\n",
    "- The mean is our Baseline model **177900**, this is our baseline, meaning our predicted score should be better than this. (The closer to the true mean the better result we will get)\n",
    "- The RMSE for our baseline model is **73586**. Our goal is not only get as close as the true value, but also, do better than our baseline RMSE. (The lower RMSE the better result we will get)"
   ]
  },
  {
   "cell_type": "markdown",
   "metadata": {},
   "source": [
    "## Machine Learning Model: Linear Regression\n",
    "---"
   ]
  },
  {
   "cell_type": "code",
   "execution_count": 63,
   "metadata": {},
   "outputs": [],
   "source": [
    "lr = LinearRegression()"
   ]
  },
  {
   "cell_type": "code",
   "execution_count": 64,
   "metadata": {},
   "outputs": [
    {
     "data": {
      "text/plain": [
       "0.8418234467753433"
      ]
     },
     "execution_count": 64,
     "metadata": {},
     "output_type": "execute_result"
    }
   ],
   "source": [
    "lr.fit(X_train_sc , y_train)\n",
    "lr.score(X_train_sc, y_train)"
   ]
  },
  {
   "cell_type": "code",
   "execution_count": 65,
   "metadata": {},
   "outputs": [
    {
     "data": {
      "text/plain": [
       "0.8861651902663481"
      ]
     },
     "execution_count": 65,
     "metadata": {},
     "output_type": "execute_result"
    }
   ],
   "source": [
    "lr.score(X_test_sc, y_test[0])"
   ]
  },
  {
   "cell_type": "code",
   "execution_count": 66,
   "metadata": {},
   "outputs": [],
   "source": [
    "pred = lr.predict(X_test_sc)"
   ]
  },
  {
   "cell_type": "code",
   "execution_count": 67,
   "metadata": {},
   "outputs": [
    {
     "data": {
      "text/plain": [
       "24827.68983913611"
      ]
     },
     "execution_count": 67,
     "metadata": {},
     "output_type": "execute_result"
    }
   ],
   "source": [
    "math.sqrt(mean_squared_error(y_test[0], pred))"
   ]
  },
  {
   "cell_type": "code",
   "execution_count": 68,
   "metadata": {},
   "outputs": [
    {
     "data": {
      "text/plain": [
       "array([[ 1.69909122e+04,  1.73733653e+04,  8.29477936e+03,\n",
       "         3.16068105e+03,  1.93946744e+03,  6.21167612e+03,\n",
       "         3.43175611e+03,  7.37674105e+03,  3.53671565e+03,\n",
       "         1.32054102e+03,  4.32585349e+03,  1.74280780e+03,\n",
       "         4.59117915e+03,  5.67379252e+03, -1.43153686e+03,\n",
       "         4.73915906e+03,  3.22614086e+03,  3.31608604e+01,\n",
       "         2.64795999e+03,  5.63627191e+03, -1.28877941e+03,\n",
       "         1.84271042e+03, -5.17716570e+00,  2.10857064e+03,\n",
       "        -3.00721921e+02,  1.25928244e+03,  6.03492943e+03,\n",
       "         9.17998485e+01,  1.84253028e+03,  3.06547231e+03,\n",
       "         1.50149364e+03,  2.70462189e+03, -2.01769826e+03,\n",
       "        -6.34822895e+02,  3.70376458e+03, -2.11451889e+03,\n",
       "        -2.30502106e+03]])"
      ]
     },
     "execution_count": 68,
     "metadata": {},
     "output_type": "execute_result"
    }
   ],
   "source": [
    "lr.coef_"
   ]
  },
  {
   "cell_type": "markdown",
   "metadata": {},
   "source": [
    "**What happened?**\n",
    "- We see two scores shown above. The R-squared score from our training data is **84.182** and the score from our test data is **88.616**. What does this mean? This means that our model is underfitting, we should include more features into our X variables. However, after several tries, these are the best outcome.\n",
    "- R-squared represents the variance explained by our model relative to the baseline. Which is a statistical measure of how close the data are to the fitted regression line. Our goal is to aim the R-squared as high as possible. \n",
    "- Linear Regression model applied our selected variables into the model without eliminating any of the variables \n",
    "\n",
    "**Why/why not this model?**\n",
    "- Reason why I didn't select this model as my final, because the RMSE is slightly higher than my Lasso method. The RMSE represents the distance of our predcited price to the actual price. The lower the RMSE is means the better result will produce.\n"
   ]
  },
  {
   "cell_type": "markdown",
   "metadata": {},
   "source": [
    "## Machine Learning Model: Lasso\n",
    "---"
   ]
  },
  {
   "cell_type": "code",
   "execution_count": 73,
   "metadata": {},
   "outputs": [],
   "source": [
    "lasso = LassoCV(cv=3)"
   ]
  },
  {
   "cell_type": "code",
   "execution_count": 74,
   "metadata": {},
   "outputs": [
    {
     "data": {
      "text/plain": [
       "0.8407010050715087"
      ]
     },
     "execution_count": 74,
     "metadata": {},
     "output_type": "execute_result"
    }
   ],
   "source": [
    "lasso.fit(X_train_sc, y_train.values.ravel())\n",
    "lasso.score(X_train_sc, y_train)"
   ]
  },
  {
   "cell_type": "code",
   "execution_count": 75,
   "metadata": {},
   "outputs": [
    {
     "data": {
      "text/plain": [
       "0.8882681666620227"
      ]
     },
     "execution_count": 75,
     "metadata": {},
     "output_type": "execute_result"
    }
   ],
   "source": [
    "lasso.score(X_test_sc, y_test[0])"
   ]
  },
  {
   "cell_type": "code",
   "execution_count": 76,
   "metadata": {},
   "outputs": [],
   "source": [
    "lasso_pred = lasso.predict(X_test_sc)"
   ]
  },
  {
   "cell_type": "code",
   "execution_count": 77,
   "metadata": {},
   "outputs": [
    {
     "data": {
      "text/plain": [
       "24597.288261164285"
      ]
     },
     "execution_count": 77,
     "metadata": {},
     "output_type": "execute_result"
    }
   ],
   "source": [
    "math.sqrt(mean_squared_error(y_test[0], lasso_pred))"
   ]
  },
  {
   "cell_type": "code",
   "execution_count": 78,
   "metadata": {},
   "outputs": [
    {
     "data": {
      "text/plain": [
       "array([17373.63236987, 18143.67837228,  8020.55368023,  3703.55034914,\n",
       "        1573.36475644,  6209.94722115,  4374.73502406,  7369.98519268,\n",
       "        3479.80187722,   661.60769475,  1946.16603597,  1083.90229622,\n",
       "        3113.774293  ,  4003.21238361, -1640.22918231,  4362.89899133,\n",
       "        2627.93186844,    -0.        ,  2619.04677335,  5202.15031174,\n",
       "        -833.87868414,  1956.15784767,     0.        ,     0.        ,\n",
       "          -0.        ,   866.30704128,  5772.48714815,  -122.73850242,\n",
       "          -0.        ,  2564.56549816,  1233.09985823,     0.        ,\n",
       "       -1445.91669182,    -0.        ,  3462.18424536, -1309.60208578,\n",
       "       -2068.9483852 ])"
      ]
     },
     "execution_count": 78,
     "metadata": {},
     "output_type": "execute_result"
    }
   ],
   "source": [
    "lasso.coef_"
   ]
  },
  {
   "cell_type": "code",
   "execution_count": 88,
   "metadata": {},
   "outputs": [],
   "source": [
    "lasso_dropped = pd.DataFrame(lasso.coef_, index=columns)"
   ]
  },
  {
   "cell_type": "code",
   "execution_count": 91,
   "metadata": {},
   "outputs": [
    {
     "data": {
      "text/html": [
       "<div>\n",
       "<style scoped>\n",
       "    .dataframe tbody tr th:only-of-type {\n",
       "        vertical-align: middle;\n",
       "    }\n",
       "\n",
       "    .dataframe tbody tr th {\n",
       "        vertical-align: top;\n",
       "    }\n",
       "\n",
       "    .dataframe thead th {\n",
       "        text-align: right;\n",
       "    }\n",
       "</style>\n",
       "<table border=\"1\" class=\"dataframe\">\n",
       "  <thead>\n",
       "    <tr style=\"text-align: right;\">\n",
       "      <th></th>\n",
       "      <th>0</th>\n",
       "    </tr>\n",
       "  </thead>\n",
       "  <tbody>\n",
       "    <tr>\n",
       "      <th>bsmt_qual_TA</th>\n",
       "      <td>-0.0</td>\n",
       "    </tr>\n",
       "    <tr>\n",
       "      <th>garage_finish_Fin</th>\n",
       "      <td>0.0</td>\n",
       "    </tr>\n",
       "    <tr>\n",
       "      <th>mas_vnr_type_None</th>\n",
       "      <td>0.0</td>\n",
       "    </tr>\n",
       "    <tr>\n",
       "      <th>kitchen_qual_TA_Gd</th>\n",
       "      <td>-0.0</td>\n",
       "    </tr>\n",
       "    <tr>\n",
       "      <th>exter_qual_TA_Gd</th>\n",
       "      <td>-0.0</td>\n",
       "    </tr>\n",
       "    <tr>\n",
       "      <th>foundation_CBlock</th>\n",
       "      <td>0.0</td>\n",
       "    </tr>\n",
       "    <tr>\n",
       "      <th>open_porch_sf</th>\n",
       "      <td>-0.0</td>\n",
       "    </tr>\n",
       "  </tbody>\n",
       "</table>\n",
       "</div>"
      ],
      "text/plain": [
       "                      0\n",
       "bsmt_qual_TA       -0.0\n",
       "garage_finish_Fin   0.0\n",
       "mas_vnr_type_None   0.0\n",
       "kitchen_qual_TA_Gd -0.0\n",
       "exter_qual_TA_Gd   -0.0\n",
       "foundation_CBlock   0.0\n",
       "open_porch_sf      -0.0"
      ]
     },
     "execution_count": 91,
     "metadata": {},
     "output_type": "execute_result"
    }
   ],
   "source": [
    "lasso_dropped[lasso_dropped[0]==0]"
   ]
  },
  {
   "cell_type": "markdown",
   "metadata": {},
   "source": [
    "**What happened?**\n",
    "-  We see two scores shown above. The R-squared score from our training data is **84.070** and the score from our test data is **88.826**. What does this mean? This means that our model is underfitting, we should include more features into our X variables. However, after several tries, these are the best outcome.\n",
    "- R-squared represents the variance explained by our model relative to the baseline. Which is a statistical measure of how close the data are to the fitted regression line. Our goal is to aim the R-squared as high as possible. \n",
    "- Lasso model is a aggressive model that drops out any of our variables that are not the best fit to our model. As the coefficient shown above, the number 0 represent the variables that are dropped by Lasso.\n",
    "- Lasso dropped 7 features from my manual selected features (Shown above), because it doesn't weight as much.\n",
    "\n",
    "**Why/why not this model?**\n",
    "- Reason why I didn't select this model as my final, because the RMSE is the highest among linearRegression and Ridge. The RMSE means the distance of our predcited price to the actual price. The lower the RMSE is means the better result will produce.\n",
    "\n"
   ]
  },
  {
   "cell_type": "markdown",
   "metadata": {},
   "source": [
    "\n",
    "\n",
    "## Machine Learning Model: Ridge \n",
    "---"
   ]
  },
  {
   "cell_type": "code",
   "execution_count": 172,
   "metadata": {},
   "outputs": [],
   "source": [
    "ridge = RidgeCV()"
   ]
  },
  {
   "cell_type": "code",
   "execution_count": 173,
   "metadata": {},
   "outputs": [
    {
     "data": {
      "text/plain": [
       "0.8418110708479818"
      ]
     },
     "execution_count": 173,
     "metadata": {},
     "output_type": "execute_result"
    }
   ],
   "source": [
    "ridge.fit(X_train_sc, y_train)\n",
    "ridge.score(X_train_sc, y_train)"
   ]
  },
  {
   "cell_type": "code",
   "execution_count": 175,
   "metadata": {},
   "outputs": [
    {
     "data": {
      "text/plain": [
       "0.8859039649982906"
      ]
     },
     "execution_count": 175,
     "metadata": {},
     "output_type": "execute_result"
    }
   ],
   "source": [
    "ridge.score(X_test_sc, y_test[0])"
   ]
  },
  {
   "cell_type": "code",
   "execution_count": 176,
   "metadata": {},
   "outputs": [],
   "source": [
    "ridge_pred = ridge.predict(X_test_sc)"
   ]
  },
  {
   "cell_type": "code",
   "execution_count": 177,
   "metadata": {},
   "outputs": [
    {
     "data": {
      "text/plain": [
       "24856.16049522175"
      ]
     },
     "execution_count": 177,
     "metadata": {},
     "output_type": "execute_result"
    }
   ],
   "source": [
    "math.sqrt(mean_squared_error(y_test[0], ridge_pred))"
   ]
  },
  {
   "cell_type": "code",
   "execution_count": 178,
   "metadata": {},
   "outputs": [
    {
     "data": {
      "text/plain": [
       "array([[16838.17051635, 16906.20830168,  8293.62438961,  3206.29822869,\n",
       "         2031.83842714,  6207.05281554,  3428.01588758,  7282.18613886,\n",
       "         3569.28293343,  1413.41121583,  4200.90301148,  2005.60887145,\n",
       "         4603.03440719,  5543.08107109, -1545.55973016,  4685.14086827,\n",
       "         3218.36022602,   -23.9025507 ,  2684.81724681,  5582.01625087,\n",
       "        -1258.05835537,  1880.2033203 ,    36.10751735,  2051.65956292,\n",
       "         -392.9543683 ,  1275.34205168,  6011.83839823,    66.66217479,\n",
       "         1699.53895504,  3048.43658614,  1490.29121563,  2563.08896299,\n",
       "        -2000.28933546,  -564.99072864,  3719.02837881, -2099.16695866,\n",
       "        -2312.41329375]])"
      ]
     },
     "execution_count": 178,
     "metadata": {},
     "output_type": "execute_result"
    }
   ],
   "source": [
    "ridge.coef_"
   ]
  },
  {
   "cell_type": "markdown",
   "metadata": {},
   "source": [
    "**What happened?**\n",
    "-  We see two scores shown above. The R-squared score from our training data is **84.181** and the score from our test data is **88.590**. What does this mean? This means that our model is underfitting, we should include more features into our X variables. However, after several tries, these are the best outcome.\n",
    "- R-squared represents the variance explained by our model relative to the baseline. Which is a statistical measure of how close the data are to the fitted regression line. Our goal is to aim the R-squared as high as possible. \n",
    "- Ridge model by comparing to Lasso is less aggressive. Instead of dropping all the variables that returns 0 in the coefficient, Ridge approach the weaker variables towards 0. Ridge still keeps all the variables that we selected. \n",
    "\n",
    "**Why/why not this model?**\n",
    "- Reason why I select this model as my final, because the RMSE is the lowest among linearRegression and Lasso. The RMSE means the distance of our predcited price to the actual price. The lower the RMSE is means the better result will produce.\n",
    "\n",
    "\n"
   ]
  },
  {
   "cell_type": "markdown",
   "metadata": {},
   "source": [
    "## Graph/Visual Interpretation"
   ]
  },
  {
   "cell_type": "code",
   "execution_count": 179,
   "metadata": {},
   "outputs": [],
   "source": [
    "with open('../assets/columns.pkl', 'rb') as f:\n",
    "    columns = pickle.load(f)"
   ]
  },
  {
   "cell_type": "code",
   "execution_count": 180,
   "metadata": {},
   "outputs": [],
   "source": [
    "# creating \n",
    "betas = pd.DataFrame(ridge.coef_, columns=columns).T"
   ]
  },
  {
   "cell_type": "code",
   "execution_count": 181,
   "metadata": {},
   "outputs": [],
   "source": [
    "betas.columns = ['weights']\n",
    "betas['abs_w']= betas['weights'].abs()"
   ]
  },
  {
   "cell_type": "code",
   "execution_count": 182,
   "metadata": {},
   "outputs": [],
   "source": [
    "beta_0 = ridge.intercept_"
   ]
  },
  {
   "cell_type": "code",
   "execution_count": 183,
   "metadata": {},
   "outputs": [],
   "source": [
    "weights = betas.sort_values('abs_w', ascending=False)['weights'].head(20)"
   ]
  },
  {
   "cell_type": "code",
   "execution_count": 184,
   "metadata": {},
   "outputs": [],
   "source": [
    "labels = weights.index"
   ]
  },
  {
   "cell_type": "code",
   "execution_count": 185,
   "metadata": {},
   "outputs": [
    {
     "data": {
      "image/png": "[encoded data removed]",
      "text/plain": [
       "<Figure size 1440x720 with 1 Axes>"
      ]
     },
     "metadata": {
      "needs_background": "light"
     },
     "output_type": "display_data"
    }
   ],
   "source": [
    "plt.figure(figsize=(20,10))\n",
    "plt.barh(labels, weights)\n",
    "plt.yticks(fontsize=20)\n",
    "plt.xticks(fontsize=20)\n",
    "plt.xlabel('Weights', fontsize=30)\n",
    "plt.title(f'Most Important Features and Weights\\ny intercept', fontsize=42)\n",
    "plt.tight_layout()"
   ]
  },
  {
   "cell_type": "markdown",
   "metadata": {},
   "source": [
    "Note how **huge** those numbers are. What does it represent? The represents that how much the features weights on our targets. Meaning, the if the features has a big impact to our target the higher the weights are. \n",
    "\n",
    "Just by looking at the top few features that impact our sale price. Ground Living area, Overall quality and Garage area. So when we looking at a house we should look these features first. Because as I mentioned these are the features that weighted the most in regards to the sale price.\n",
    "\n",
    "Instead of looking at the features that positively impact to our sale price, we should also be looking at what feature will decrease our price. Note that there is a negative weights on the lot_shape_Reg. Meaning that if the house have this feature it will negativily impact the house price. \n"
   ]
  },
  {
   "cell_type": "code",
   "execution_count": 188,
   "metadata": {},
   "outputs": [
    {
     "data": {
      "text/plain": [
       "<matplotlib.legend.Legend at 0x1a2b0d0d30>"
      ]
     },
     "execution_count": 188,
     "metadata": {},
     "output_type": "execute_result"
    },
    {
     "data": {
      "image/png": "[encoded data removed]",
      "text/plain": [
       "<Figure size 720x720 with 1 Axes>"
      ]
     },
     "metadata": {
      "needs_background": "light"
     },
     "output_type": "display_data"
    }
   ],
   "source": [
    "plt.figure(figsize=(10,10))\n",
    "plt.title(f'Predicted vs True value \\n RMSE: {mean_squared_error(y_test[0], ridge.predict(X_test_sc)) ** 0.5:.2f}')\n",
    "plt.scatter(y_test[0], ridge.predict(X_test_sc))\n",
    "plt.ylabel('predicted')\n",
    "plt.xlabel('true')\n",
    "plt.plot([0, 500000], [0, 500000], color='r', label='Actual')\n",
    "plt.plot([0,500000], [177900.573099,177900.573099], color='k', label='Base Line')\n",
    "plt.legend()"
   ]
  },
  {
   "cell_type": "markdown",
   "metadata": {},
   "source": [
    "**What's going on?**\n",
    "- Our goal here is simple, we want to make all the blue dots to be as close to the Actual Line as possible. \n",
    "- The blue dots here represent our predictions from our feature selection. In this case, these are the result from the model Ridge. \n",
    "- The base line here represented in black line is the mean of our target (around 177900.57), Our blue dots are only closed to the range from around 150k to 200k. This is insufficient rest of our prediction will be off.\n",
    "- The Actual Line here presented in red is the acutal predictions, which is our goal. \n",
    "\n",
    "**Conlcusion**\n",
    "- As we can see from this graph, a lot of our predcition is really close to the acutal line from range around 100k to 250k. Which is a good sign, however, as the price increase our prediction tend to fall apart to the red line. "
   ]
  },
  {
   "cell_type": "code",
   "execution_count": 65,
   "metadata": {},
   "outputs": [],
   "source": [
    "def md_coef_table(labels, weights):\n",
    "    print('| feature | weight |\\n| --- | --- |')\n",
    "    for i in range(len(labels)):\n",
    "        print(f'| {labels[i]} | {weights[i]:.2e} |')"
   ]
  },
  {
   "cell_type": "code",
   "execution_count": 66,
   "metadata": {},
   "outputs": [
    {
     "name": "stdout",
     "output_type": "stream",
     "text": [
      "| feature | weight |\n",
      "| --- | --- |\n",
      "| gr_liv_area | 1.69e+04 |\n",
      "| overall_qual | 1.68e+04 |\n",
      "| garage_area | 8.29e+03 |\n",
      "| kitchen_qual_Ex | 7.28e+03 |\n",
      "| bsmt_qual_Ex | 6.21e+03 |\n",
      "| bsmt_exposure_Gd | 6.01e+03 |\n",
      "| neighborhood_NridgHt | 5.58e+03 |\n",
      "| exter_qual_Ex | 5.54e+03 |\n",
      "| fireplaces | 4.69e+03 |\n",
      "| mas_vnr_area | 4.60e+03 |\n",
      "| foundation_PConc | 4.20e+03 |\n",
      "| wood_deck_sf | 3.72e+03 |\n",
      "| year_remod/add | 3.57e+03 |\n",
      "| year_built | 3.43e+03 |\n",
      "| bsmtfin_type_1_GLQ | 3.22e+03 |\n",
      "| total_bsmt_sf | 3.21e+03 |\n",
      "| sale_type_New | 3.05e+03 |\n",
      "| heating_qc_Ex | 2.68e+03 |\n",
      "| foundation_CBlock | 2.56e+03 |\n",
      "| lot_shape_Reg | -2.31e+03 |\n"
     ]
    }
   ],
   "source": [
    "md_coef_table(labels, weights)"
   ]
  },
  {
   "cell_type": "markdown",
   "metadata": {},
   "source": [
    "| feature | weight |\n",
    "| --- | --- |\n",
    "| gr_liv_area | 1.69e+04 |\n",
    "| overall_qual | 1.68e+04 |\n",
    "| garage_area | 8.29e+03 |\n",
    "| kitchen_qual_Ex | 7.28e+03 |\n",
    "| bsmt_qual_Ex | 6.21e+03 |\n",
    "| bsmt_exposure_Gd | 6.01e+03 |\n",
    "| neighborhood_NridgHt | 5.58e+03 |\n",
    "| exter_qual_Ex | 5.54e+03 |\n",
    "| fireplaces | 4.69e+03 |\n",
    "| mas_vnr_area | 4.60e+03 |\n",
    "| foundation_PConc | 4.20e+03 |\n",
    "| wood_deck_sf | 3.72e+03 |\n",
    "| year_remod/add | 3.57e+03 |\n",
    "| year_built | 3.43e+03 |\n",
    "| bsmtfin_type_1_GLQ | 3.22e+03 |\n",
    "| total_bsmt_sf | 3.21e+03 |\n",
    "| sale_type_New | 3.05e+03 |\n",
    "| heating_qc_Ex | 2.68e+03 |\n",
    "| foundation_CBlock | 2.56e+03 |\n",
    "| lot_shape_Reg | -2.31e+03 |"
   ]
  },
  {
   "cell_type": "code",
   "execution_count": 72,
   "metadata": {},
   "outputs": [],
   "source": [
    "# dump our lasso model as `lasso.pkl` in our assets folder\n",
    "with open('../assets/ridge.pkl', 'wb+') as f:\n",
    "    pickle.dump(ridge, f)"
   ]
  },
  {
   "cell_type": "code",
   "execution_count": null,
   "metadata": {},
   "outputs": [],
   "source": []
  }
 ],
 "metadata": {
  "kernelspec": {
   "display_name": "Python 3",
   "language": "python",
   "name": "python3"
  },
  "language_info": {
   "codemirror_mode": {
    "name": "ipython",
    "version": 3
   },
   "file_extension": ".py",
   "mimetype": "text/x-python",
   "name": "python",
   "nbconvert_exporter": "python",
   "pygments_lexer": "ipython3",
   "version": "3.6.6"
  }
 },
 "nbformat": 4,
 "nbformat_minor": 2
}
