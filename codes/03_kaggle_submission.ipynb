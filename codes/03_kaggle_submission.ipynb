{
 "cells": [
  {
   "cell_type": "markdown",
   "metadata": {},
   "source": [
    "# Ames Housing Data - Modeling\n"
   ]
  },
  {
   "cell_type": "markdown",
   "metadata": {},
   "source": [
    "### Contents:\n",
    "- [Clean data in same method as training data](#Clean-data-in-same-method-as-training-data)\n",
    "- [Matching the Columns](#Matching-the-Columns)\n",
    "- [Create our Final CSV file](#Create-our-Final-CSV-file)\n",
    "---"
   ]
  },
  {
   "cell_type": "code",
   "execution_count": 1,
   "metadata": {},
   "outputs": [],
   "source": [
    "import pandas as pd\n",
    "import numpy as np\n",
    "import seaborn as sns\n",
    "import matplotlib.pyplot as plt\n",
    "from sklearn.model_selection import train_test_split, cross_val_score\n",
    "from sklearn.linear_model import LinearRegression, LassoCV, RidgeCV\n",
    "from sklearn.preprocessing import StandardScaler, PolynomialFeatures\n",
    "from sklearn.metrics import r2_score, mean_squared_error\n",
    "from sklearn.pipeline import Pipeline\n",
    "import sklearn.linear_model as linear_model\n",
    "import pickle\n",
    "import csv\n",
    "\n",
    "%matplotlib inline"
   ]
  },
  {
   "cell_type": "markdown",
   "metadata": {},
   "source": [
    "## Load in trained model and scaler"
   ]
  },
  {
   "cell_type": "code",
   "execution_count": 2,
   "metadata": {},
   "outputs": [],
   "source": [
    "with open ('../assets/ridge.pkl', 'rb') as f:\n",
    "    ridge = pickle.load(f)\n",
    "with open('../assets/scaler.pkl', 'rb') as f:\n",
    "    ss = pickle.load(f)"
   ]
  },
  {
   "cell_type": "markdown",
   "metadata": {},
   "source": [
    "## Load kaggle data"
   ]
  },
  {
   "cell_type": "code",
   "execution_count": 3,
   "metadata": {},
   "outputs": [],
   "source": [
    "kaggle = pd.read_csv('../datasets/test.csv', index_col='Id')"
   ]
  },
  {
   "cell_type": "markdown",
   "metadata": {},
   "source": [
    "## Clean data in same method as training data"
   ]
  },
  {
   "cell_type": "code",
   "execution_count": 4,
   "metadata": {},
   "outputs": [],
   "source": [
    "with open('../assets/columns.pkl', 'rb') as f:\n",
    "    columns = pickle.load(f)"
   ]
  },
  {
   "cell_type": "code",
   "execution_count": 5,
   "metadata": {},
   "outputs": [
    {
     "data": {
      "text/html": [
       "<div>\n",
       "<style scoped>\n",
       "    .dataframe tbody tr th:only-of-type {\n",
       "        vertical-align: middle;\n",
       "    }\n",
       "\n",
       "    .dataframe tbody tr th {\n",
       "        vertical-align: top;\n",
       "    }\n",
       "\n",
       "    .dataframe thead th {\n",
       "        text-align: right;\n",
       "    }\n",
       "</style>\n",
       "<table border=\"1\" class=\"dataframe\">\n",
       "  <thead>\n",
       "    <tr style=\"text-align: right;\">\n",
       "      <th></th>\n",
       "      <th>pid</th>\n",
       "      <th>ms_subclass</th>\n",
       "      <th>ms_zoning</th>\n",
       "      <th>lot_frontage</th>\n",
       "      <th>lot_area</th>\n",
       "      <th>street</th>\n",
       "      <th>alley</th>\n",
       "      <th>lot_shape</th>\n",
       "      <th>land_contour</th>\n",
       "      <th>utilities</th>\n",
       "      <th>...</th>\n",
       "      <th>3ssn_porch</th>\n",
       "      <th>screen_porch</th>\n",
       "      <th>pool_area</th>\n",
       "      <th>pool_qc</th>\n",
       "      <th>fence</th>\n",
       "      <th>misc_feature</th>\n",
       "      <th>misc_val</th>\n",
       "      <th>mo_sold</th>\n",
       "      <th>yr_sold</th>\n",
       "      <th>sale_type</th>\n",
       "    </tr>\n",
       "    <tr>\n",
       "      <th>Id</th>\n",
       "      <th></th>\n",
       "      <th></th>\n",
       "      <th></th>\n",
       "      <th></th>\n",
       "      <th></th>\n",
       "      <th></th>\n",
       "      <th></th>\n",
       "      <th></th>\n",
       "      <th></th>\n",
       "      <th></th>\n",
       "      <th></th>\n",
       "      <th></th>\n",
       "      <th></th>\n",
       "      <th></th>\n",
       "      <th></th>\n",
       "      <th></th>\n",
       "      <th></th>\n",
       "      <th></th>\n",
       "      <th></th>\n",
       "      <th></th>\n",
       "      <th></th>\n",
       "    </tr>\n",
       "  </thead>\n",
       "  <tbody>\n",
       "    <tr>\n",
       "      <th>2658</th>\n",
       "      <td>902301120</td>\n",
       "      <td>190</td>\n",
       "      <td>RM</td>\n",
       "      <td>69.0</td>\n",
       "      <td>9142</td>\n",
       "      <td>Pave</td>\n",
       "      <td>Grvl</td>\n",
       "      <td>Reg</td>\n",
       "      <td>Lvl</td>\n",
       "      <td>AllPub</td>\n",
       "      <td>...</td>\n",
       "      <td>0</td>\n",
       "      <td>0</td>\n",
       "      <td>0</td>\n",
       "      <td>NaN</td>\n",
       "      <td>NaN</td>\n",
       "      <td>NaN</td>\n",
       "      <td>0</td>\n",
       "      <td>4</td>\n",
       "      <td>2006</td>\n",
       "      <td>WD</td>\n",
       "    </tr>\n",
       "    <tr>\n",
       "      <th>2718</th>\n",
       "      <td>905108090</td>\n",
       "      <td>90</td>\n",
       "      <td>RL</td>\n",
       "      <td>NaN</td>\n",
       "      <td>9662</td>\n",
       "      <td>Pave</td>\n",
       "      <td>NaN</td>\n",
       "      <td>IR1</td>\n",
       "      <td>Lvl</td>\n",
       "      <td>AllPub</td>\n",
       "      <td>...</td>\n",
       "      <td>0</td>\n",
       "      <td>0</td>\n",
       "      <td>0</td>\n",
       "      <td>NaN</td>\n",
       "      <td>NaN</td>\n",
       "      <td>NaN</td>\n",
       "      <td>0</td>\n",
       "      <td>8</td>\n",
       "      <td>2006</td>\n",
       "      <td>WD</td>\n",
       "    </tr>\n",
       "    <tr>\n",
       "      <th>2414</th>\n",
       "      <td>528218130</td>\n",
       "      <td>60</td>\n",
       "      <td>RL</td>\n",
       "      <td>58.0</td>\n",
       "      <td>17104</td>\n",
       "      <td>Pave</td>\n",
       "      <td>NaN</td>\n",
       "      <td>IR1</td>\n",
       "      <td>Lvl</td>\n",
       "      <td>AllPub</td>\n",
       "      <td>...</td>\n",
       "      <td>0</td>\n",
       "      <td>0</td>\n",
       "      <td>0</td>\n",
       "      <td>NaN</td>\n",
       "      <td>NaN</td>\n",
       "      <td>NaN</td>\n",
       "      <td>0</td>\n",
       "      <td>9</td>\n",
       "      <td>2006</td>\n",
       "      <td>New</td>\n",
       "    </tr>\n",
       "    <tr>\n",
       "      <th>1989</th>\n",
       "      <td>902207150</td>\n",
       "      <td>30</td>\n",
       "      <td>RM</td>\n",
       "      <td>60.0</td>\n",
       "      <td>8520</td>\n",
       "      <td>Pave</td>\n",
       "      <td>NaN</td>\n",
       "      <td>Reg</td>\n",
       "      <td>Lvl</td>\n",
       "      <td>AllPub</td>\n",
       "      <td>...</td>\n",
       "      <td>0</td>\n",
       "      <td>0</td>\n",
       "      <td>0</td>\n",
       "      <td>NaN</td>\n",
       "      <td>NaN</td>\n",
       "      <td>NaN</td>\n",
       "      <td>0</td>\n",
       "      <td>7</td>\n",
       "      <td>2007</td>\n",
       "      <td>WD</td>\n",
       "    </tr>\n",
       "    <tr>\n",
       "      <th>625</th>\n",
       "      <td>535105100</td>\n",
       "      <td>20</td>\n",
       "      <td>RL</td>\n",
       "      <td>NaN</td>\n",
       "      <td>9500</td>\n",
       "      <td>Pave</td>\n",
       "      <td>NaN</td>\n",
       "      <td>IR1</td>\n",
       "      <td>Lvl</td>\n",
       "      <td>AllPub</td>\n",
       "      <td>...</td>\n",
       "      <td>0</td>\n",
       "      <td>185</td>\n",
       "      <td>0</td>\n",
       "      <td>NaN</td>\n",
       "      <td>NaN</td>\n",
       "      <td>NaN</td>\n",
       "      <td>0</td>\n",
       "      <td>7</td>\n",
       "      <td>2009</td>\n",
       "      <td>WD</td>\n",
       "    </tr>\n",
       "  </tbody>\n",
       "</table>\n",
       "<p>5 rows × 79 columns</p>\n",
       "</div>"
      ],
      "text/plain": [
       "            pid  ms_subclass ms_zoning  lot_frontage  lot_area street alley  \\\n",
       "Id                                                                            \n",
       "2658  902301120          190        RM          69.0      9142   Pave  Grvl   \n",
       "2718  905108090           90        RL           NaN      9662   Pave   NaN   \n",
       "2414  528218130           60        RL          58.0     17104   Pave   NaN   \n",
       "1989  902207150           30        RM          60.0      8520   Pave   NaN   \n",
       "625   535105100           20        RL           NaN      9500   Pave   NaN   \n",
       "\n",
       "     lot_shape land_contour utilities    ...     3ssn_porch screen_porch  \\\n",
       "Id                                       ...                               \n",
       "2658       Reg          Lvl    AllPub    ...              0            0   \n",
       "2718       IR1          Lvl    AllPub    ...              0            0   \n",
       "2414       IR1          Lvl    AllPub    ...              0            0   \n",
       "1989       Reg          Lvl    AllPub    ...              0            0   \n",
       "625        IR1          Lvl    AllPub    ...              0          185   \n",
       "\n",
       "     pool_area pool_qc fence misc_feature misc_val  mo_sold  yr_sold  \\\n",
       "Id                                                                     \n",
       "2658         0     NaN   NaN          NaN        0        4     2006   \n",
       "2718         0     NaN   NaN          NaN        0        8     2006   \n",
       "2414         0     NaN   NaN          NaN        0        9     2006   \n",
       "1989         0     NaN   NaN          NaN        0        7     2007   \n",
       "625          0     NaN   NaN          NaN        0        7     2009   \n",
       "\n",
       "      sale_type  \n",
       "Id               \n",
       "2658        WD   \n",
       "2718        WD   \n",
       "2414        New  \n",
       "1989        WD   \n",
       "625         WD   \n",
       "\n",
       "[5 rows x 79 columns]"
      ]
     },
     "execution_count": 5,
     "metadata": {},
     "output_type": "execute_result"
    }
   ],
   "source": [
    "kaggle.columns = [i.lower().replace(' ','_') for i in kaggle.columns]\n",
    "kaggle.head()"
   ]
  },
  {
   "cell_type": "code",
   "execution_count": 6,
   "metadata": {},
   "outputs": [],
   "source": [
    "# replace null values with more accurate values\n",
    "kaggle.fillna(value={'mas_vnr_type': 'None','bsmt_qual': 'NA','bsmt_cond': 'NA','bsmt_exposure': 'NA','bsmtfin_type_1': 'NA',\n",
    "                 'bsmtfin_type_2': 'NA','fireplace_qu': 'NA','garage_type': 'NA','garage_finish': 'NA','garage_qual': 'NA','garage_cond': 'NA',\n",
    "                 'paved_drive': 'NA', 'mas_vnr_area': 0.0,'bsmtfin_sf_1': 0.0,'bsmtfin_sf_2': 0.0,'total_bsmt_sf': 0.0,'bsmt_full_bath': 0.0,\n",
    "                 'bsmt_half_bath': 0.0, 'garage_cars': 0.0, 'garage_area': 0.0, 'fence': 0.0,'pool_qc':'NA'}, axis=0, inplace=True)"
   ]
  },
  {
   "cell_type": "code",
   "execution_count": 7,
   "metadata": {},
   "outputs": [],
   "source": [
    "# dropping the columns that won't reflect the saleprice\n",
    "kaggle.drop(['lot_frontage','pid','alley','pool_qc','fence','misc_feature','garage_yr_blt'], axis=1, inplace=True)"
   ]
  },
  {
   "cell_type": "code",
   "execution_count": 8,
   "metadata": {},
   "outputs": [],
   "source": [
    "# set all the objects into a list to apply get_dummies\n",
    "dummies_var = ['ms_zoning',\n",
    "'street',\n",
    "'lot_shape',\n",
    "'land_contour',\n",
    "'utilities',\n",
    "'lot_config',\n",
    "'land_slope',\n",
    "'neighborhood',\n",
    "'condition_1',\n",
    "'condition_2',\n",
    "'bldg_type',\n",
    "'house_style', \n",
    "'roof_style',\n",
    "'roof_matl',\n",
    "'exterior_1st',\n",
    "'exterior_2nd',\n",
    "'mas_vnr_type',\n",
    "'exter_qual',\n",
    "'exter_cond',\n",
    "'foundation',\n",
    "'bsmt_qual',\n",
    "'bsmt_cond',\n",
    "'bsmt_exposure',\n",
    "'bsmtfin_type_1',\n",
    "'bsmtfin_type_2',\n",
    "'heating',\n",
    "'heating_qc',\n",
    "'central_air',\n",
    "'electrical',\n",
    "'kitchen_qual',\n",
    "'functional',\n",
    "'fireplace_qu',\n",
    "'garage_type',\n",
    "'garage_finish',\n",
    "'garage_qual',\n",
    "'garage_cond',\n",
    "'paved_drive',\n",
    "'sale_type']"
   ]
  },
  {
   "cell_type": "code",
   "execution_count": 9,
   "metadata": {},
   "outputs": [],
   "source": [
    "# get diummies on all object columns, and created a new dataframe of df_dummies\n",
    "kaggle_dummies = pd.get_dummies(kaggle, columns = dummies_var)"
   ]
  },
  {
   "cell_type": "code",
   "execution_count": 10,
   "metadata": {},
   "outputs": [],
   "source": [
    "# Combied exter_qual_TA and Gd and created a new column called exter_qual_TA_Gd\n",
    "kaggle_dummies['exter_qual_TA_Gd'] = kaggle_dummies['exter_qual_TA'] + kaggle_dummies['exter_qual_Gd']\n",
    "kaggle_dummies['kitchen_qual_TA_Gd'] = kaggle_dummies['kitchen_qual_TA'] + kaggle_dummies['kitchen_qual_Gd'] "
   ]
  },
  {
   "cell_type": "code",
   "execution_count": 11,
   "metadata": {},
   "outputs": [],
   "source": [
    "# Drop the original two columns after combining\n",
    "kaggle_dummies.drop(['exter_qual_Gd','exter_qual_TA','kitchen_qual_TA','kitchen_qual_Gd'], axis=1, inplace=True)"
   ]
  },
  {
   "cell_type": "code",
   "execution_count": 12,
   "metadata": {},
   "outputs": [],
   "source": [
    "with open('../assets/columns.pkl', 'rb') as f:\n",
    "    columns = pickle.load(f)"
   ]
  },
  {
   "cell_type": "code",
   "execution_count": 13,
   "metadata": {},
   "outputs": [
    {
     "data": {
      "text/plain": [
       "(879, 266)"
      ]
     },
     "execution_count": 13,
     "metadata": {},
     "output_type": "execute_result"
    }
   ],
   "source": [
    "kaggle_dummies.shape"
   ]
  },
  {
   "cell_type": "markdown",
   "metadata": {},
   "source": [
    "## Matching the Columns"
   ]
  },
  {
   "cell_type": "code",
   "execution_count": 14,
   "metadata": {},
   "outputs": [],
   "source": [
    "# import my cleaned train data and set index as Id\n",
    "df_dummies = pd.read_csv('../datasets/df_dummies.csv', index_col='Id')\n"
   ]
  },
  {
   "cell_type": "code",
   "execution_count": 15,
   "metadata": {},
   "outputs": [],
   "source": [
    "# drop the saleprice on our train data\n",
    "df_dummies.drop('saleprice', 1, inplace=True)"
   ]
  },
  {
   "cell_type": "code",
   "execution_count": 16,
   "metadata": {},
   "outputs": [],
   "source": [
    "# finding the difference columns between our training and test data\n",
    "missing_cols = set(columns).difference(kaggle_dummies.columns)"
   ]
  },
  {
   "cell_type": "code",
   "execution_count": 17,
   "metadata": {},
   "outputs": [],
   "source": [
    "# making new columns that are missing in test data and fill it with 0\n",
    "for col in missing_cols:\n",
    "    kaggle_dummies[col] = 0"
   ]
  },
  {
   "cell_type": "code",
   "execution_count": 18,
   "metadata": {},
   "outputs": [
    {
     "data": {
      "text/html": [
       "<div>\n",
       "<style scoped>\n",
       "    .dataframe tbody tr th:only-of-type {\n",
       "        vertical-align: middle;\n",
       "    }\n",
       "\n",
       "    .dataframe tbody tr th {\n",
       "        vertical-align: top;\n",
       "    }\n",
       "\n",
       "    .dataframe thead th {\n",
       "        text-align: right;\n",
       "    }\n",
       "</style>\n",
       "<table border=\"1\" class=\"dataframe\">\n",
       "  <thead>\n",
       "    <tr style=\"text-align: right;\">\n",
       "      <th></th>\n",
       "      <th>overall_qual</th>\n",
       "      <th>gr_liv_area</th>\n",
       "      <th>garage_area</th>\n",
       "      <th>total_bsmt_sf</th>\n",
       "      <th>1st_flr_sf</th>\n",
       "      <th>bsmt_qual_Ex</th>\n",
       "      <th>year_built</th>\n",
       "      <th>kitchen_qual_Ex</th>\n",
       "      <th>year_remod/add</th>\n",
       "      <th>full_bath</th>\n",
       "      <th>...</th>\n",
       "      <th>garage_finish_NA</th>\n",
       "      <th>garage_qual_NA</th>\n",
       "      <th>ms_zoning_RL</th>\n",
       "      <th>foundation_BrkTil</th>\n",
       "      <th>bsmt_qual_Gd</th>\n",
       "      <th>garage_type_BuiltIn</th>\n",
       "      <th>sale_type_WD</th>\n",
       "      <th>land_contour_HLS</th>\n",
       "      <th>neighborhood_OldTown</th>\n",
       "      <th>house_style_2Story</th>\n",
       "    </tr>\n",
       "    <tr>\n",
       "      <th>Id</th>\n",
       "      <th></th>\n",
       "      <th></th>\n",
       "      <th></th>\n",
       "      <th></th>\n",
       "      <th></th>\n",
       "      <th></th>\n",
       "      <th></th>\n",
       "      <th></th>\n",
       "      <th></th>\n",
       "      <th></th>\n",
       "      <th></th>\n",
       "      <th></th>\n",
       "      <th></th>\n",
       "      <th></th>\n",
       "      <th></th>\n",
       "      <th></th>\n",
       "      <th></th>\n",
       "      <th></th>\n",
       "      <th></th>\n",
       "      <th></th>\n",
       "      <th></th>\n",
       "    </tr>\n",
       "  </thead>\n",
       "  <tbody>\n",
       "    <tr>\n",
       "      <th>2658</th>\n",
       "      <td>6</td>\n",
       "      <td>1928</td>\n",
       "      <td>440</td>\n",
       "      <td>1020</td>\n",
       "      <td>908</td>\n",
       "      <td>0</td>\n",
       "      <td>1910</td>\n",
       "      <td>0</td>\n",
       "      <td>1950</td>\n",
       "      <td>2</td>\n",
       "      <td>...</td>\n",
       "      <td>0</td>\n",
       "      <td>0</td>\n",
       "      <td>0</td>\n",
       "      <td>0</td>\n",
       "      <td>0</td>\n",
       "      <td>0</td>\n",
       "      <td>1</td>\n",
       "      <td>0</td>\n",
       "      <td>1</td>\n",
       "      <td>1</td>\n",
       "    </tr>\n",
       "    <tr>\n",
       "      <th>2718</th>\n",
       "      <td>5</td>\n",
       "      <td>1967</td>\n",
       "      <td>580</td>\n",
       "      <td>1967</td>\n",
       "      <td>1967</td>\n",
       "      <td>0</td>\n",
       "      <td>1977</td>\n",
       "      <td>0</td>\n",
       "      <td>1977</td>\n",
       "      <td>2</td>\n",
       "      <td>...</td>\n",
       "      <td>0</td>\n",
       "      <td>0</td>\n",
       "      <td>1</td>\n",
       "      <td>0</td>\n",
       "      <td>1</td>\n",
       "      <td>0</td>\n",
       "      <td>1</td>\n",
       "      <td>0</td>\n",
       "      <td>0</td>\n",
       "      <td>0</td>\n",
       "    </tr>\n",
       "    <tr>\n",
       "      <th>2414</th>\n",
       "      <td>7</td>\n",
       "      <td>1496</td>\n",
       "      <td>426</td>\n",
       "      <td>654</td>\n",
       "      <td>664</td>\n",
       "      <td>0</td>\n",
       "      <td>2006</td>\n",
       "      <td>0</td>\n",
       "      <td>2006</td>\n",
       "      <td>2</td>\n",
       "      <td>...</td>\n",
       "      <td>0</td>\n",
       "      <td>0</td>\n",
       "      <td>1</td>\n",
       "      <td>0</td>\n",
       "      <td>1</td>\n",
       "      <td>0</td>\n",
       "      <td>0</td>\n",
       "      <td>0</td>\n",
       "      <td>0</td>\n",
       "      <td>1</td>\n",
       "    </tr>\n",
       "    <tr>\n",
       "      <th>1989</th>\n",
       "      <td>5</td>\n",
       "      <td>968</td>\n",
       "      <td>480</td>\n",
       "      <td>968</td>\n",
       "      <td>968</td>\n",
       "      <td>0</td>\n",
       "      <td>1923</td>\n",
       "      <td>0</td>\n",
       "      <td>2006</td>\n",
       "      <td>1</td>\n",
       "      <td>...</td>\n",
       "      <td>0</td>\n",
       "      <td>0</td>\n",
       "      <td>0</td>\n",
       "      <td>0</td>\n",
       "      <td>0</td>\n",
       "      <td>0</td>\n",
       "      <td>1</td>\n",
       "      <td>0</td>\n",
       "      <td>1</td>\n",
       "      <td>0</td>\n",
       "    </tr>\n",
       "    <tr>\n",
       "      <th>625</th>\n",
       "      <td>6</td>\n",
       "      <td>1394</td>\n",
       "      <td>514</td>\n",
       "      <td>1394</td>\n",
       "      <td>1394</td>\n",
       "      <td>0</td>\n",
       "      <td>1963</td>\n",
       "      <td>0</td>\n",
       "      <td>1963</td>\n",
       "      <td>1</td>\n",
       "      <td>...</td>\n",
       "      <td>0</td>\n",
       "      <td>0</td>\n",
       "      <td>1</td>\n",
       "      <td>0</td>\n",
       "      <td>1</td>\n",
       "      <td>0</td>\n",
       "      <td>1</td>\n",
       "      <td>0</td>\n",
       "      <td>0</td>\n",
       "      <td>0</td>\n",
       "    </tr>\n",
       "  </tbody>\n",
       "</table>\n",
       "<p>5 rows × 69 columns</p>\n",
       "</div>"
      ],
      "text/plain": [
       "      overall_qual  gr_liv_area  garage_area  total_bsmt_sf  1st_flr_sf  \\\n",
       "Id                                                                        \n",
       "2658             6         1928          440           1020         908   \n",
       "2718             5         1967          580           1967        1967   \n",
       "2414             7         1496          426            654         664   \n",
       "1989             5          968          480            968         968   \n",
       "625              6         1394          514           1394        1394   \n",
       "\n",
       "      bsmt_qual_Ex  year_built  kitchen_qual_Ex  year_remod/add  full_bath  \\\n",
       "Id                                                                           \n",
       "2658             0        1910                0            1950          2   \n",
       "2718             0        1977                0            1977          2   \n",
       "2414             0        2006                0            2006          2   \n",
       "1989             0        1923                0            2006          1   \n",
       "625              0        1963                0            1963          1   \n",
       "\n",
       "             ...          garage_finish_NA  garage_qual_NA  ms_zoning_RL  \\\n",
       "Id           ...                                                           \n",
       "2658         ...                         0               0             0   \n",
       "2718         ...                         0               0             1   \n",
       "2414         ...                         0               0             1   \n",
       "1989         ...                         0               0             0   \n",
       "625          ...                         0               0             1   \n",
       "\n",
       "      foundation_BrkTil  bsmt_qual_Gd  garage_type_BuiltIn  sale_type_WD   \\\n",
       "Id                                                                          \n",
       "2658                  0             0                    0              1   \n",
       "2718                  0             1                    0              1   \n",
       "2414                  0             1                    0              0   \n",
       "1989                  0             0                    0              1   \n",
       "625                   0             1                    0              1   \n",
       "\n",
       "      land_contour_HLS  neighborhood_OldTown  house_style_2Story  \n",
       "Id                                                                \n",
       "2658                 0                     1                   1  \n",
       "2718                 0                     0                   0  \n",
       "2414                 0                     0                   1  \n",
       "1989                 0                     1                   0  \n",
       "625                  0                     0                   0  \n",
       "\n",
       "[5 rows x 69 columns]"
      ]
     },
     "execution_count": 18,
     "metadata": {},
     "output_type": "execute_result"
    }
   ],
   "source": [
    "kaggle_dummies[columns].head()"
   ]
  },
  {
   "cell_type": "code",
   "execution_count": 19,
   "metadata": {},
   "outputs": [
    {
     "data": {
      "text/plain": [
       "(879, 266)"
      ]
     },
     "execution_count": 19,
     "metadata": {},
     "output_type": "execute_result"
    }
   ],
   "source": [
    "kaggle_dummies.shape"
   ]
  },
  {
   "cell_type": "code",
   "execution_count": 20,
   "metadata": {},
   "outputs": [
    {
     "data": {
      "text/plain": [
       "(879, 69)"
      ]
     },
     "execution_count": 20,
     "metadata": {},
     "output_type": "execute_result"
    }
   ],
   "source": [
    "kaggle_dummies[columns].shape"
   ]
  },
  {
   "cell_type": "markdown",
   "metadata": {},
   "source": [
    "## Create our Final CSV file"
   ]
  },
  {
   "cell_type": "code",
   "execution_count": 21,
   "metadata": {},
   "outputs": [],
   "source": [
    "kaggle_sc = ss.transform(kaggle_dummies[columns])"
   ]
  },
  {
   "cell_type": "code",
   "execution_count": 22,
   "metadata": {},
   "outputs": [],
   "source": [
    "preds = ridge.predict(kaggle_sc)"
   ]
  },
  {
   "cell_type": "code",
   "execution_count": 23,
   "metadata": {},
   "outputs": [
    {
     "data": {
      "text/plain": [
       "(879, 1)"
      ]
     },
     "execution_count": 23,
     "metadata": {},
     "output_type": "execute_result"
    }
   ],
   "source": [
    "preds.shape"
   ]
  },
  {
   "cell_type": "code",
   "execution_count": 24,
   "metadata": {},
   "outputs": [],
   "source": [
    "submission = pd.DataFrame(preds, index=kaggle.index, \n",
    "                          columns=['SalePrice'])"
   ]
  },
  {
   "cell_type": "code",
   "execution_count": 25,
   "metadata": {},
   "outputs": [
    {
     "data": {
      "text/html": [
       "<div>\n",
       "<style scoped>\n",
       "    .dataframe tbody tr th:only-of-type {\n",
       "        vertical-align: middle;\n",
       "    }\n",
       "\n",
       "    .dataframe tbody tr th {\n",
       "        vertical-align: top;\n",
       "    }\n",
       "\n",
       "    .dataframe thead th {\n",
       "        text-align: right;\n",
       "    }\n",
       "</style>\n",
       "<table border=\"1\" class=\"dataframe\">\n",
       "  <thead>\n",
       "    <tr style=\"text-align: right;\">\n",
       "      <th></th>\n",
       "      <th>SalePrice</th>\n",
       "    </tr>\n",
       "    <tr>\n",
       "      <th>Id</th>\n",
       "      <th></th>\n",
       "    </tr>\n",
       "  </thead>\n",
       "  <tbody>\n",
       "    <tr>\n",
       "      <th>2</th>\n",
       "      <td>130967.238686</td>\n",
       "    </tr>\n",
       "    <tr>\n",
       "      <th>4</th>\n",
       "      <td>258806.315475</td>\n",
       "    </tr>\n",
       "    <tr>\n",
       "      <th>6</th>\n",
       "      <td>190332.129023</td>\n",
       "    </tr>\n",
       "    <tr>\n",
       "      <th>7</th>\n",
       "      <td>254233.352247</td>\n",
       "    </tr>\n",
       "    <tr>\n",
       "      <th>17</th>\n",
       "      <td>197026.843101</td>\n",
       "    </tr>\n",
       "  </tbody>\n",
       "</table>\n",
       "</div>"
      ],
      "text/plain": [
       "        SalePrice\n",
       "Id               \n",
       "2   130967.238686\n",
       "4   258806.315475\n",
       "6   190332.129023\n",
       "7   254233.352247\n",
       "17  197026.843101"
      ]
     },
     "execution_count": 25,
     "metadata": {},
     "output_type": "execute_result"
    }
   ],
   "source": [
    "submission.sort_index(inplace=True)\n",
    "submission.head()"
   ]
  },
  {
   "cell_type": "code",
   "execution_count": 26,
   "metadata": {},
   "outputs": [],
   "source": [
    "# use pandas .to_csv to save these predictions out\n",
    "submission.to_csv('../datasets/second_attemp_ridge.csv')"
   ]
  },
  {
   "cell_type": "code",
   "execution_count": 27,
   "metadata": {},
   "outputs": [
    {
     "name": "stdout",
     "output_type": "stream",
     "text": [
      "Id,SalePrice\n",
      "2,128490.74592036601\n",
      "4,264593.94841515645\n",
      "6,189230.9758237811\n",
      "7,240657.95918011857\n",
      "17,193977.44801186892\n",
      "18,379606.1502120754\n",
      "22,194632.11758638136\n",
      "27,116055.99333200656\n",
      "31,99841.97265871533\n"
     ]
    }
   ],
   "source": [
    "!head ../datasets/first_attemp_ridge.csv"
   ]
  },
  {
   "cell_type": "code",
   "execution_count": null,
   "metadata": {},
   "outputs": [],
   "source": []
  }
 ],
 "metadata": {
  "kernelspec": {
   "display_name": "Python 3",
   "language": "python",
   "name": "python3"
  },
  "language_info": {
   "codemirror_mode": {
    "name": "ipython",
    "version": 3
   },
   "file_extension": ".py",
   "mimetype": "text/x-python",
   "name": "python",
   "nbconvert_exporter": "python",
   "pygments_lexer": "ipython3",
   "version": "3.7.0"
  }
 },
 "nbformat": 4,
 "nbformat_minor": 2
}
